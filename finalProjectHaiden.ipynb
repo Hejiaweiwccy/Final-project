{
 "cells": [
  {
   "cell_type": "markdown",
   "metadata": {},
   "source": [
    "# Avoiding Fish Fries at All Cost\n",
    "### With Haiden Hunter\n",
    "\n",
    "\n",
    "Datasets: [Pittsburgh Fish Fry Locations](https://data.wprdc.org/dataset/pittsburgh-fish-fry-map)"
   ]
  },
  {
   "cell_type": "markdown",
   "metadata": {},
   "source": [
    "![alt text](https://media.giphy.com/media/v1.Y2lkPTc5MGI3NjExeHk2eDcxdWIxbDNpM3RtdGl2emd5eHdxNjZqbTJkNHhybzZqeWs1aCZlcD12MV9pbnRlcm5hbF9naWZfYnlfaWQmY3Q9Zw/13U2NlgRx3QvMQ/giphy.gif)"
   ]
  },
  {
   "cell_type": "code",
   "execution_count": 11,
   "metadata": {},
   "outputs": [
    {
     "data": {
      "text/html": [
       "<div>\n",
       "<style scoped>\n",
       "    .dataframe tbody tr th:only-of-type {\n",
       "        vertical-align: middle;\n",
       "    }\n",
       "\n",
       "    .dataframe tbody tr th {\n",
       "        vertical-align: top;\n",
       "    }\n",
       "\n",
       "    .dataframe thead th {\n",
       "        text-align: right;\n",
       "    }\n",
       "</style>\n",
       "<table border=\"1\" class=\"dataframe\">\n",
       "  <thead>\n",
       "    <tr style=\"text-align: right;\">\n",
       "      <th></th>\n",
       "      <th>_id</th>\n",
       "      <th>validated</th>\n",
       "      <th>venue_name</th>\n",
       "      <th>venue_type</th>\n",
       "      <th>venue_address</th>\n",
       "      <th>website</th>\n",
       "      <th>events</th>\n",
       "      <th>etc</th>\n",
       "      <th>menu_url</th>\n",
       "      <th>menu_text</th>\n",
       "      <th>...</th>\n",
       "      <th>email</th>\n",
       "      <th>homemade_pierogies</th>\n",
       "      <th>take_out</th>\n",
       "      <th>alcohol</th>\n",
       "      <th>lunch</th>\n",
       "      <th>handicap</th>\n",
       "      <th>publish</th>\n",
       "      <th>id</th>\n",
       "      <th>latitude</th>\n",
       "      <th>longitude</th>\n",
       "    </tr>\n",
       "  </thead>\n",
       "  <tbody>\n",
       "    <tr>\n",
       "      <th>0</th>\n",
       "      <td>8680.0</td>\n",
       "      <td>t</td>\n",
       "      <td>St. Peter Church, St. Faustina Parish</td>\n",
       "      <td>Church</td>\n",
       "      <td>670 South Main Street, Slippery Rock, Pennsylv...</td>\n",
       "      <td>https://stfaustinaparish.org/</td>\n",
       "      <td>Friday Feb 24 from 4:00 PM to 7:00 PM, Friday ...</td>\n",
       "      <td>NaN</td>\n",
       "      <td>https://stfaustinaparish.org/</td>\n",
       "      <td>$12 per meal, \\nALL YOU CAN EAT $18\\nKids unde...</td>\n",
       "      <td>...</td>\n",
       "      <td>NaN</td>\n",
       "      <td>NaN</td>\n",
       "      <td>t</td>\n",
       "      <td>NaN</td>\n",
       "      <td>f</td>\n",
       "      <td>NaN</td>\n",
       "      <td>t</td>\n",
       "      <td>NaN</td>\n",
       "      <td>41.056430</td>\n",
       "      <td>-80.050690</td>\n",
       "    </tr>\n",
       "    <tr>\n",
       "      <th>1</th>\n",
       "      <td>8681.0</td>\n",
       "      <td>f</td>\n",
       "      <td>Hartford Heights Volunteer Fire Department</td>\n",
       "      <td>Fire Department</td>\n",
       "      <td>14335 U.S. 30, Irwin, PA 15642</td>\n",
       "      <td>https://www.facebook.com/Hartford-Heights-VFD-...</td>\n",
       "      <td>Friday Feb 24 from 4:00 PM to 8:00 PM, Friday ...</td>\n",
       "      <td>NaN</td>\n",
       "      <td>NaN</td>\n",
       "      <td>NaN</td>\n",
       "      <td>...</td>\n",
       "      <td>NaN</td>\n",
       "      <td>f</td>\n",
       "      <td>t</td>\n",
       "      <td>NaN</td>\n",
       "      <td>f</td>\n",
       "      <td>NaN</td>\n",
       "      <td>f</td>\n",
       "      <td>NaN</td>\n",
       "      <td>40.352969</td>\n",
       "      <td>-79.767295</td>\n",
       "    </tr>\n",
       "    <tr>\n",
       "      <th>2</th>\n",
       "      <td>8682.0</td>\n",
       "      <td>t</td>\n",
       "      <td>Our Lady of Joy Church, Holy Family Parish</td>\n",
       "      <td>Church</td>\n",
       "      <td>2000 O'Block Road Holiday Park, PA</td>\n",
       "      <td>https://holyfamilypgh.org/</td>\n",
       "      <td>Wednesday Feb 22 from 4:00 PM to 7:00 PM, Frid...</td>\n",
       "      <td>NaN</td>\n",
       "      <td>chrome-extension://efaidnbmnnnibpcajpcglclefin...</td>\n",
       "      <td>Hand breaded fish dinner $14 includes fries, s...</td>\n",
       "      <td>...</td>\n",
       "      <td>NaN</td>\n",
       "      <td>NaN</td>\n",
       "      <td>t</td>\n",
       "      <td>NaN</td>\n",
       "      <td>f</td>\n",
       "      <td>NaN</td>\n",
       "      <td>t</td>\n",
       "      <td>NaN</td>\n",
       "      <td>40.480007</td>\n",
       "      <td>-79.719563</td>\n",
       "    </tr>\n",
       "  </tbody>\n",
       "</table>\n",
       "<p>3 rows × 22 columns</p>\n",
       "</div>"
      ],
      "text/plain": [
       "      _id validated                                  venue_name  \\\n",
       "0  8680.0         t       St. Peter Church, St. Faustina Parish   \n",
       "1  8681.0         f  Hartford Heights Volunteer Fire Department   \n",
       "2  8682.0         t  Our Lady of Joy Church, Holy Family Parish   \n",
       "\n",
       "        venue_type                                      venue_address  \\\n",
       "0           Church  670 South Main Street, Slippery Rock, Pennsylv...   \n",
       "1  Fire Department                     14335 U.S. 30, Irwin, PA 15642   \n",
       "2           Church                 2000 O'Block Road Holiday Park, PA   \n",
       "\n",
       "                                             website  \\\n",
       "0                      https://stfaustinaparish.org/   \n",
       "1  https://www.facebook.com/Hartford-Heights-VFD-...   \n",
       "2                         https://holyfamilypgh.org/   \n",
       "\n",
       "                                              events  etc  \\\n",
       "0  Friday Feb 24 from 4:00 PM to 7:00 PM, Friday ...  NaN   \n",
       "1  Friday Feb 24 from 4:00 PM to 8:00 PM, Friday ...  NaN   \n",
       "2  Wednesday Feb 22 from 4:00 PM to 7:00 PM, Frid...  NaN   \n",
       "\n",
       "                                            menu_url  \\\n",
       "0                      https://stfaustinaparish.org/   \n",
       "1                                                NaN   \n",
       "2  chrome-extension://efaidnbmnnnibpcajpcglclefin...   \n",
       "\n",
       "                                           menu_text  ... email  \\\n",
       "0  $12 per meal, \\nALL YOU CAN EAT $18\\nKids unde...  ...   NaN   \n",
       "1                                                NaN  ...   NaN   \n",
       "2  Hand breaded fish dinner $14 includes fries, s...  ...   NaN   \n",
       "\n",
       "  homemade_pierogies take_out alcohol lunch handicap publish  id   latitude  \\\n",
       "0                NaN        t     NaN     f      NaN       t NaN  41.056430   \n",
       "1                  f        t     NaN     f      NaN       f NaN  40.352969   \n",
       "2                NaN        t     NaN     f      NaN       t NaN  40.480007   \n",
       "\n",
       "   longitude  \n",
       "0 -80.050690  \n",
       "1 -79.767295  \n",
       "2 -79.719563  \n",
       "\n",
       "[3 rows x 22 columns]"
      ]
     },
     "execution_count": 11,
     "metadata": {},
     "output_type": "execute_result"
    }
   ],
   "source": [
    "# Ok... I decided to throw every possible import I could need here.\n",
    "# I'd rather have it and not use it all that much then forget about it and never use it.\n",
    "import fpsnippets\n",
    "import pandas as pd\n",
    "import numpy as np\n",
    "import geopandas as gpd\n",
    "\n",
    "#Lets load in all of the fish fry data from 2019 to 2023 and merge them into one dataset to clean up.\n",
    "fishFryData2023 = pd.read_csv(\"https://data.wprdc.org/datastore/dump/511a29f6-3217-4f61-a9ba-b3b5b35ab5fb\")\n",
    "fishFryData2022 = pd.read_csv(\"https://data.wprdc.org/dataset/682daad1-6d3a-45d3-8710-6c961146e19b/resource/f4d7e81a-ac39-4f84-a249-c68524e8258a/download/2022_pittsburgh_fish_fry_locations.csv\")\n",
    "fishFryData2021 = pd.read_csv(\"https://data.wprdc.org/dataset/682daad1-6d3a-45d3-8710-6c961146e19b/resource/dfa58a5b-d221-411f-bd7e-32837ff99993/download/2021_pittsburgh_fish_fry_locations.csv\")\n",
    "fishFryData2020 = pd.read_csv(\"https://data.wprdc.org/dataset/682daad1-6d3a-45d3-8710-6c961146e19b/resource/d802d628-bd44-47cc-bbc9-c691f9026ca1/download/2020_pittsburgh_fish_fry_locations.csv\")\n",
    "fishFryData2019 = pd.read_csv(\"https://data.wprdc.org/dataset/682daad1-6d3a-45d3-8710-6c961146e19b/resource/5b58c467-8e6a-4abc-9dd5-a39881770b3c/download/2019_pittsburgh_fish_fry_locations.csv\")\n",
    "\n",
    "# Merging data.\n",
    "fishFryData = pd.concat([fishFryData2023, fishFryData2022, fishFryData2021, fishFryData2020, fishFryData2019]).reset_index(drop=True)\n",
    "fishFryData.head(3)"
   ]
  },
  {
   "cell_type": "markdown",
   "metadata": {},
   "source": [
    "#### Why not delete duplicates?\n",
    "\n",
    "At first I was planning on removing them. As when compiling multiple years of data, I was worried about the clutter caused by reoccuring fish fries. However, I realized that it may be benefitial to keep the reoccuring fish fries. As it verifies whether or not it was a one off fish fry or a community staple."
   ]
  },
  {
   "cell_type": "code",
   "execution_count": 12,
   "metadata": {},
   "outputs": [
    {
     "data": {
      "text/html": [
       "<div>\n",
       "<style scoped>\n",
       "    .dataframe tbody tr th:only-of-type {\n",
       "        vertical-align: middle;\n",
       "    }\n",
       "\n",
       "    .dataframe tbody tr th {\n",
       "        vertical-align: top;\n",
       "    }\n",
       "\n",
       "    .dataframe thead th {\n",
       "        text-align: right;\n",
       "    }\n",
       "</style>\n",
       "<table border=\"1\" class=\"dataframe\">\n",
       "  <thead>\n",
       "    <tr style=\"text-align: right;\">\n",
       "      <th></th>\n",
       "      <th>validated</th>\n",
       "      <th>venue_name</th>\n",
       "      <th>latitude</th>\n",
       "      <th>longitude</th>\n",
       "    </tr>\n",
       "  </thead>\n",
       "  <tbody>\n",
       "    <tr>\n",
       "      <th>0</th>\n",
       "      <td>t</td>\n",
       "      <td>St. Peter Church, St. Faustina Parish</td>\n",
       "      <td>41.056430</td>\n",
       "      <td>-80.050690</td>\n",
       "    </tr>\n",
       "    <tr>\n",
       "      <th>1</th>\n",
       "      <td>f</td>\n",
       "      <td>Hartford Heights Volunteer Fire Department</td>\n",
       "      <td>40.352969</td>\n",
       "      <td>-79.767295</td>\n",
       "    </tr>\n",
       "    <tr>\n",
       "      <th>2</th>\n",
       "      <td>t</td>\n",
       "      <td>Our Lady of Joy Church, Holy Family Parish</td>\n",
       "      <td>40.480007</td>\n",
       "      <td>-79.719563</td>\n",
       "    </tr>\n",
       "  </tbody>\n",
       "</table>\n",
       "</div>"
      ],
      "text/plain": [
       "  validated                                  venue_name   latitude  longitude\n",
       "0         t       St. Peter Church, St. Faustina Parish  41.056430 -80.050690\n",
       "1         f  Hartford Heights Volunteer Fire Department  40.352969 -79.767295\n",
       "2         t  Our Lady of Joy Church, Holy Family Parish  40.480007 -79.719563"
      ]
     },
     "execution_count": 12,
     "metadata": {},
     "output_type": "execute_result"
    }
   ],
   "source": [
    "# Removing nonessential columns.\n",
    "fishFryData = fishFryData[['validated', 'venue_name', 'latitude', 'longitude']]\n",
    "fishFryData.head(3)"
   ]
  },
  {
   "cell_type": "code",
   "execution_count": 35,
   "metadata": {},
   "outputs": [
    {
     "name": "stdout",
     "output_type": "stream",
     "text": [
      "Central Lawrenceville\n"
     ]
    },
    {
     "name": "stderr",
     "output_type": "stream",
     "text": [
      "<ipython-input-35-3e5191c0c514>:8: FutureWarning: In a future version of pandas all arguments of concat except for the argument 'objs' will be keyword-only.\n",
      "  pd.concat(cleanFishFryData, {'Neighborhood' : neighborhood})\n"
     ]
    },
    {
     "ename": "TypeError",
     "evalue": "first argument must be an iterable of pandas objects, you passed an object of type \"DataFrame\"",
     "output_type": "error",
     "traceback": [
      "\u001b[0;31m---------------------------------------------------------------------------\u001b[0m",
      "\u001b[0;31mTypeError\u001b[0m                                 Traceback (most recent call last)",
      "\u001b[0;32m<ipython-input-35-3e5191c0c514>\u001b[0m in \u001b[0;36m<module>\u001b[0;34m\u001b[0m\n\u001b[1;32m      6\u001b[0m         \u001b[0;32mif\u001b[0m \u001b[0;34m(\u001b[0m\u001b[0;34m(\u001b[0m\u001b[0mrow\u001b[0m\u001b[0;34m[\u001b[0m\u001b[0;34m\"validated\"\u001b[0m\u001b[0;34m]\u001b[0m\u001b[0;34m)\u001b[0m \u001b[0;34m==\u001b[0m \u001b[0;34m\"t\"\u001b[0m\u001b[0;34m)\u001b[0m \u001b[0;32mor\u001b[0m \u001b[0;34m(\u001b[0m\u001b[0;34m(\u001b[0m\u001b[0mrow\u001b[0m\u001b[0;34m[\u001b[0m\u001b[0;34m\"validated\"\u001b[0m\u001b[0;34m]\u001b[0m\u001b[0;34m)\u001b[0m \u001b[0;34m==\u001b[0m \u001b[0;32mTrue\u001b[0m\u001b[0;34m)\u001b[0m\u001b[0;34m:\u001b[0m\u001b[0;34m\u001b[0m\u001b[0;34m\u001b[0m\u001b[0m\n\u001b[1;32m      7\u001b[0m             \u001b[0mprint\u001b[0m\u001b[0;34m(\u001b[0m\u001b[0mneighborhood\u001b[0m\u001b[0;34m)\u001b[0m\u001b[0;34m\u001b[0m\u001b[0;34m\u001b[0m\u001b[0m\n\u001b[0;32m----> 8\u001b[0;31m             \u001b[0mpd\u001b[0m\u001b[0;34m.\u001b[0m\u001b[0mconcat\u001b[0m\u001b[0;34m(\u001b[0m\u001b[0mcleanFishFryData\u001b[0m\u001b[0;34m,\u001b[0m \u001b[0;34m{\u001b[0m\u001b[0;34m'Neighborhood'\u001b[0m \u001b[0;34m:\u001b[0m \u001b[0mneighborhood\u001b[0m\u001b[0;34m}\u001b[0m\u001b[0;34m)\u001b[0m\u001b[0;34m\u001b[0m\u001b[0;34m\u001b[0m\u001b[0m\n\u001b[0m",
      "\u001b[0;32m/opt/tljh/user/lib/python3.8/site-packages/pandas/util/_decorators.py\u001b[0m in \u001b[0;36mwrapper\u001b[0;34m(*args, **kwargs)\u001b[0m\n\u001b[1;32m    309\u001b[0m                     \u001b[0mstacklevel\u001b[0m\u001b[0;34m=\u001b[0m\u001b[0mstacklevel\u001b[0m\u001b[0;34m,\u001b[0m\u001b[0;34m\u001b[0m\u001b[0;34m\u001b[0m\u001b[0m\n\u001b[1;32m    310\u001b[0m                 )\n\u001b[0;32m--> 311\u001b[0;31m             \u001b[0;32mreturn\u001b[0m \u001b[0mfunc\u001b[0m\u001b[0;34m(\u001b[0m\u001b[0;34m*\u001b[0m\u001b[0margs\u001b[0m\u001b[0;34m,\u001b[0m \u001b[0;34m**\u001b[0m\u001b[0mkwargs\u001b[0m\u001b[0;34m)\u001b[0m\u001b[0;34m\u001b[0m\u001b[0;34m\u001b[0m\u001b[0m\n\u001b[0m\u001b[1;32m    312\u001b[0m \u001b[0;34m\u001b[0m\u001b[0m\n\u001b[1;32m    313\u001b[0m         \u001b[0;32mreturn\u001b[0m \u001b[0mwrapper\u001b[0m\u001b[0;34m\u001b[0m\u001b[0;34m\u001b[0m\u001b[0m\n",
      "\u001b[0;32m/opt/tljh/user/lib/python3.8/site-packages/pandas/core/reshape/concat.py\u001b[0m in \u001b[0;36mconcat\u001b[0;34m(objs, axis, join, ignore_index, keys, levels, names, verify_integrity, sort, copy)\u001b[0m\n\u001b[1;32m    344\u001b[0m     \u001b[0mValueError\u001b[0m\u001b[0;34m:\u001b[0m \u001b[0mIndexes\u001b[0m \u001b[0mhave\u001b[0m \u001b[0moverlapping\u001b[0m \u001b[0mvalues\u001b[0m\u001b[0;34m:\u001b[0m \u001b[0;34m[\u001b[0m\u001b[0;34m'a'\u001b[0m\u001b[0;34m]\u001b[0m\u001b[0;34m\u001b[0m\u001b[0;34m\u001b[0m\u001b[0m\n\u001b[1;32m    345\u001b[0m     \"\"\"\n\u001b[0;32m--> 346\u001b[0;31m     op = _Concatenator(\n\u001b[0m\u001b[1;32m    347\u001b[0m         \u001b[0mobjs\u001b[0m\u001b[0;34m,\u001b[0m\u001b[0;34m\u001b[0m\u001b[0;34m\u001b[0m\u001b[0m\n\u001b[1;32m    348\u001b[0m         \u001b[0maxis\u001b[0m\u001b[0;34m=\u001b[0m\u001b[0maxis\u001b[0m\u001b[0;34m,\u001b[0m\u001b[0;34m\u001b[0m\u001b[0;34m\u001b[0m\u001b[0m\n",
      "\u001b[0;32m/opt/tljh/user/lib/python3.8/site-packages/pandas/core/reshape/concat.py\u001b[0m in \u001b[0;36m__init__\u001b[0;34m(self, objs, axis, join, keys, levels, names, ignore_index, verify_integrity, copy, sort)\u001b[0m\n\u001b[1;32m    379\u001b[0m     ):\n\u001b[1;32m    380\u001b[0m         \u001b[0;32mif\u001b[0m \u001b[0misinstance\u001b[0m\u001b[0;34m(\u001b[0m\u001b[0mobjs\u001b[0m\u001b[0;34m,\u001b[0m \u001b[0;34m(\u001b[0m\u001b[0mABCSeries\u001b[0m\u001b[0;34m,\u001b[0m \u001b[0mABCDataFrame\u001b[0m\u001b[0;34m,\u001b[0m \u001b[0mstr\u001b[0m\u001b[0;34m)\u001b[0m\u001b[0;34m)\u001b[0m\u001b[0;34m:\u001b[0m\u001b[0;34m\u001b[0m\u001b[0;34m\u001b[0m\u001b[0m\n\u001b[0;32m--> 381\u001b[0;31m             raise TypeError(\n\u001b[0m\u001b[1;32m    382\u001b[0m                 \u001b[0;34m\"first argument must be an iterable of pandas \"\u001b[0m\u001b[0;34m\u001b[0m\u001b[0;34m\u001b[0m\u001b[0m\n\u001b[1;32m    383\u001b[0m                 \u001b[0;34mf'objects, you passed an object of type \"{type(objs).__name__}\"'\u001b[0m\u001b[0;34m\u001b[0m\u001b[0;34m\u001b[0m\u001b[0m\n",
      "\u001b[0;31mTypeError\u001b[0m: first argument must be an iterable of pandas objects, you passed an object of type \"DataFrame\""
     ]
    }
   ],
   "source": [
    "# Sorting through valid Pittsburgh neighborhoods.\n",
    "cleanFishFryData = pd.DataFrame(columns=['Neighborhood'])\n",
    "for x, row in fishFryData.iterrows():\n",
    "    neighborhood = fpsnippets.geo_to_neighborhood(row['latitude'], row['longitude'])\n",
    "    if neighborhood != None:\n",
    "        if ((row[\"validated\"]) == \"t\") or ((row[\"validated\"]) == True):\n",
    "            print(neighborhood)\n",
    "            pd.concat(cleanFishFryData, {'Neighborhood' : neighborhood})"
   ]
  },
  {
   "cell_type": "code",
   "execution_count": 14,
   "metadata": {},
   "outputs": [],
   "source": [
    "rawFishFryNeighborhoods = gpd.read_file(\"Neighborhoods/Neighborhoods_.shp\")"
   ]
  },
  {
   "cell_type": "code",
   "execution_count": 15,
   "metadata": {},
   "outputs": [],
   "source": [
    "fishFryNeighborhoods = pd.DataFrame(columns = [\"Neighborhood\", \"FishFrys\"])"
   ]
  },
  {
   "cell_type": "code",
   "execution_count": null,
   "metadata": {},
   "outputs": [],
   "source": []
  },
  {
   "cell_type": "code",
   "execution_count": null,
   "metadata": {},
   "outputs": [],
   "source": []
  },
  {
   "cell_type": "code",
   "execution_count": null,
   "metadata": {},
   "outputs": [],
   "source": []
  }
 ],
 "metadata": {
  "kernelspec": {
   "display_name": "Python 3",
   "language": "python",
   "name": "python3"
  },
  "language_info": {
   "codemirror_mode": {
    "name": "ipython",
    "version": 3
   },
   "file_extension": ".py",
   "mimetype": "text/x-python",
   "name": "python",
   "nbconvert_exporter": "python",
   "pygments_lexer": "ipython3",
   "version": "3.8.3"
  }
 },
 "nbformat": 4,
 "nbformat_minor": 4
}
