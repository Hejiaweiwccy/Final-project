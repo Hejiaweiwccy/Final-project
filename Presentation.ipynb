{
 "cells": [
  {
   "cell_type": "markdown",
   "metadata": {},
   "source": [
    "# What Neighborhood Is Best to Walk Your Fish?\n",
    "\n",
    "### By Team Garlic (Haiden Hunter, Andrew Noonan, and Jeffery He)\n",
    "\n",
    "![alt text](https://i.pinimg.com/736x/41/88/1c/41881cdd0b6c1c5eb9ee45b3e7395c0b.jpg)"
   ]
  },
  {
   "cell_type": "markdown",
   "metadata": {},
   "source": [
    "## Introduction\n",
    "\n",
    "What is the weirdest activity you can imagine? I hope that walking your pet fish was your first thought, because it was ours. Now lets take that silly idea and make it comically practical. You would need a place to walk your fish. At first, we thought of public rivers, ponds, and lakes. However, when talking about the neighborhoods around Pittsburgh the rivers dominate the waterways. And what if a much bigger fish is lurking in that murky water waiting to eat your beloved pet? Instead, we turned to public pools. Assuming your fish is supernatural and can survive in chlorine dense waters, but that is a given. Now you do not want someone to mistake your pet fish for one that is meant to be cooked right? So we also analyzed local fish fry locations in order to avoid thoes areas. And to top everything off, you and your fish deserve the highest air quality. So we also made sure that the local air quality was up to standard. But in the end its all about your fish's happiness. So we will combine all these metrics into a *Fish Enjoyment Score* to ultimately conclude the best neighborhood to walk your fish.\n",
    "\n",
    "## The Metrics\n",
    "\n",
    "The *Fish Enjoyment Score* is the ultimate fish walkability metric created by analyzing\n",
    "\n",
    "1. The number of fish fries.\n",
    "2. The number of public pools.\n",
    "3. The air quality of the area.\n",
    "\n",
    "To reach our conclusing we analyzed the following data sets:\n",
    "\n",
    "1. [Pittsburgh Fish Fry Locations](https://data.wprdc.org/dataset/pittsburgh-fish-fry-map)\n",
    "\n",
    "    This dataset contains lists of local fish fry locations of the last 5 years.\n",
    "    \n",
    "2. [Public Pool Inspections](https://data.wprdc.org/dataset/allegheny-county-public-swimming-pool-hot-tub-and-spa-inspections)\n",
    "\n",
    "    This dataset contains the data collected by pool inspectors around the Pittsburgh areas.\n",
    "    \n",
    "3. [Air Quality](https://data.wprdc.org/dataset/allegheny-county-air-quality)\n",
    "\n",
    "    This dataset contains ratings of the local air quality.\n",
    "    \n",
    "4. [Reference List of Pittsburgh Neighborhoods](https://data.wprdc.org/dataset/neighborhoods2/resource/668d7238-cfd2-492e-b397-51a6e74182ff)\n",
    "\n",
    "    This dataset contains a list of all Pittsburgh neighborhoods.\n",
    "\n",
    "\n"
   ]
  },
  {
   "cell_type": "markdown",
   "metadata": {},
   "source": [
    "## Metric #1: Avoid Fish Fries at All Cost\n",
    "\n",
    "##### Haiden Hunter\n",
    "\n",
    "We begin by importing all of our data and merging it into one file."
   ]
  },
  {
   "cell_type": "code",
   "execution_count": 1,
   "metadata": {},
   "outputs": [
    {
     "data": {
      "text/html": [
       "<div>\n",
       "<style scoped>\n",
       "    .dataframe tbody tr th:only-of-type {\n",
       "        vertical-align: middle;\n",
       "    }\n",
       "\n",
       "    .dataframe tbody tr th {\n",
       "        vertical-align: top;\n",
       "    }\n",
       "\n",
       "    .dataframe thead th {\n",
       "        text-align: right;\n",
       "    }\n",
       "</style>\n",
       "<table border=\"1\" class=\"dataframe\">\n",
       "  <thead>\n",
       "    <tr style=\"text-align: right;\">\n",
       "      <th></th>\n",
       "      <th>index</th>\n",
       "      <th>_id</th>\n",
       "      <th>validated</th>\n",
       "      <th>venue_name</th>\n",
       "      <th>venue_type</th>\n",
       "      <th>venue_address</th>\n",
       "      <th>website</th>\n",
       "      <th>events</th>\n",
       "      <th>etc</th>\n",
       "      <th>menu_url</th>\n",
       "      <th>...</th>\n",
       "      <th>email</th>\n",
       "      <th>homemade_pierogies</th>\n",
       "      <th>take_out</th>\n",
       "      <th>alcohol</th>\n",
       "      <th>lunch</th>\n",
       "      <th>handicap</th>\n",
       "      <th>publish</th>\n",
       "      <th>id</th>\n",
       "      <th>latitude</th>\n",
       "      <th>longitude</th>\n",
       "    </tr>\n",
       "  </thead>\n",
       "  <tbody>\n",
       "    <tr>\n",
       "      <th>0</th>\n",
       "      <td>0</td>\n",
       "      <td>8680.0</td>\n",
       "      <td>t</td>\n",
       "      <td>St. Peter Church, St. Faustina Parish</td>\n",
       "      <td>Church</td>\n",
       "      <td>670 South Main Street, Slippery Rock, Pennsylv...</td>\n",
       "      <td>https://stfaustinaparish.org/</td>\n",
       "      <td>Friday Feb 24 from 4:00 PM to 7:00 PM, Friday ...</td>\n",
       "      <td>NaN</td>\n",
       "      <td>https://stfaustinaparish.org/</td>\n",
       "      <td>...</td>\n",
       "      <td>NaN</td>\n",
       "      <td>NaN</td>\n",
       "      <td>t</td>\n",
       "      <td>NaN</td>\n",
       "      <td>f</td>\n",
       "      <td>NaN</td>\n",
       "      <td>t</td>\n",
       "      <td>NaN</td>\n",
       "      <td>41.056430</td>\n",
       "      <td>-80.050690</td>\n",
       "    </tr>\n",
       "    <tr>\n",
       "      <th>1</th>\n",
       "      <td>1</td>\n",
       "      <td>8681.0</td>\n",
       "      <td>f</td>\n",
       "      <td>Hartford Heights Volunteer Fire Department</td>\n",
       "      <td>Fire Department</td>\n",
       "      <td>14335 U.S. 30, Irwin, PA 15642</td>\n",
       "      <td>https://www.facebook.com/Hartford-Heights-VFD-...</td>\n",
       "      <td>Friday Feb 24 from 4:00 PM to 8:00 PM, Friday ...</td>\n",
       "      <td>NaN</td>\n",
       "      <td>NaN</td>\n",
       "      <td>...</td>\n",
       "      <td>NaN</td>\n",
       "      <td>f</td>\n",
       "      <td>t</td>\n",
       "      <td>NaN</td>\n",
       "      <td>f</td>\n",
       "      <td>NaN</td>\n",
       "      <td>f</td>\n",
       "      <td>NaN</td>\n",
       "      <td>40.352969</td>\n",
       "      <td>-79.767295</td>\n",
       "    </tr>\n",
       "    <tr>\n",
       "      <th>2</th>\n",
       "      <td>2</td>\n",
       "      <td>8682.0</td>\n",
       "      <td>t</td>\n",
       "      <td>Our Lady of Joy Church, Holy Family Parish</td>\n",
       "      <td>Church</td>\n",
       "      <td>2000 O'Block Road Holiday Park, PA</td>\n",
       "      <td>https://holyfamilypgh.org/</td>\n",
       "      <td>Wednesday Feb 22 from 4:00 PM to 7:00 PM, Frid...</td>\n",
       "      <td>NaN</td>\n",
       "      <td>chrome-extension://efaidnbmnnnibpcajpcglclefin...</td>\n",
       "      <td>...</td>\n",
       "      <td>NaN</td>\n",
       "      <td>NaN</td>\n",
       "      <td>t</td>\n",
       "      <td>NaN</td>\n",
       "      <td>f</td>\n",
       "      <td>NaN</td>\n",
       "      <td>t</td>\n",
       "      <td>NaN</td>\n",
       "      <td>40.480007</td>\n",
       "      <td>-79.719563</td>\n",
       "    </tr>\n",
       "  </tbody>\n",
       "</table>\n",
       "<p>3 rows × 23 columns</p>\n",
       "</div>"
      ],
      "text/plain": [
       "   index     _id validated                                  venue_name  \\\n",
       "0      0  8680.0         t       St. Peter Church, St. Faustina Parish   \n",
       "1      1  8681.0         f  Hartford Heights Volunteer Fire Department   \n",
       "2      2  8682.0         t  Our Lady of Joy Church, Holy Family Parish   \n",
       "\n",
       "        venue_type                                      venue_address  \\\n",
       "0           Church  670 South Main Street, Slippery Rock, Pennsylv...   \n",
       "1  Fire Department                     14335 U.S. 30, Irwin, PA 15642   \n",
       "2           Church                 2000 O'Block Road Holiday Park, PA   \n",
       "\n",
       "                                             website  \\\n",
       "0                      https://stfaustinaparish.org/   \n",
       "1  https://www.facebook.com/Hartford-Heights-VFD-...   \n",
       "2                         https://holyfamilypgh.org/   \n",
       "\n",
       "                                              events  etc  \\\n",
       "0  Friday Feb 24 from 4:00 PM to 7:00 PM, Friday ...  NaN   \n",
       "1  Friday Feb 24 from 4:00 PM to 8:00 PM, Friday ...  NaN   \n",
       "2  Wednesday Feb 22 from 4:00 PM to 7:00 PM, Frid...  NaN   \n",
       "\n",
       "                                            menu_url  ... email  \\\n",
       "0                      https://stfaustinaparish.org/  ...   NaN   \n",
       "1                                                NaN  ...   NaN   \n",
       "2  chrome-extension://efaidnbmnnnibpcajpcglclefin...  ...   NaN   \n",
       "\n",
       "  homemade_pierogies take_out alcohol lunch handicap publish  id   latitude  \\\n",
       "0                NaN        t     NaN     f      NaN       t NaN  41.056430   \n",
       "1                  f        t     NaN     f      NaN       f NaN  40.352969   \n",
       "2                NaN        t     NaN     f      NaN       t NaN  40.480007   \n",
       "\n",
       "   longitude  \n",
       "0 -80.050690  \n",
       "1 -79.767295  \n",
       "2 -79.719563  \n",
       "\n",
       "[3 rows x 23 columns]"
      ]
     },
     "execution_count": 1,
     "metadata": {},
     "output_type": "execute_result"
    }
   ],
   "source": [
    "import pandas as pd\n",
    "import fpsnippets\n",
    "\n",
    "fishFryData2023 = pd.read_csv(\"https://data.wprdc.org/datastore/dump/511a29f6-3217-4f61-a9ba-b3b5b35ab5fb\")\n",
    "fishFryData2022 = pd.read_csv(\"https://data.wprdc.org/dataset/682daad1-6d3a-45d3-8710-6c961146e19b/resource/f4d7e81a-ac39-4f84-a249-c68524e8258a/download/2022_pittsburgh_fish_fry_locations.csv\")\n",
    "fishFryData2021 = pd.read_csv(\"https://data.wprdc.org/dataset/682daad1-6d3a-45d3-8710-6c961146e19b/resource/dfa58a5b-d221-411f-bd7e-32837ff99993/download/2021_pittsburgh_fish_fry_locations.csv\")\n",
    "fishFryData2020 = pd.read_csv(\"https://data.wprdc.org/dataset/682daad1-6d3a-45d3-8710-6c961146e19b/resource/d802d628-bd44-47cc-bbc9-c691f9026ca1/download/2020_pittsburgh_fish_fry_locations.csv\")\n",
    "fishFryData2019 = pd.read_csv(\"https://data.wprdc.org/dataset/682daad1-6d3a-45d3-8710-6c961146e19b/resource/5b58c467-8e6a-4abc-9dd5-a39881770b3c/download/2019_pittsburgh_fish_fry_locations.csv\")\n",
    "fishFryData = pd.concat([fishFryData2023, fishFryData2022, fishFryData2021, fishFryData2020, fishFryData2019]).reset_index()\n",
    "\n",
    "fishFryData.head(3)"
   ]
  },
  {
   "cell_type": "markdown",
   "metadata": {},
   "source": [
    "Now this data contains a lot of unnecessary information. Lets remove unneeded columns."
   ]
  },
  {
   "cell_type": "code",
   "execution_count": 2,
   "metadata": {},
   "outputs": [
    {
     "data": {
      "text/html": [
       "<div>\n",
       "<style scoped>\n",
       "    .dataframe tbody tr th:only-of-type {\n",
       "        vertical-align: middle;\n",
       "    }\n",
       "\n",
       "    .dataframe tbody tr th {\n",
       "        vertical-align: top;\n",
       "    }\n",
       "\n",
       "    .dataframe thead th {\n",
       "        text-align: right;\n",
       "    }\n",
       "</style>\n",
       "<table border=\"1\" class=\"dataframe\">\n",
       "  <thead>\n",
       "    <tr style=\"text-align: right;\">\n",
       "      <th></th>\n",
       "      <th>validated</th>\n",
       "      <th>venue_name</th>\n",
       "      <th>latitude</th>\n",
       "      <th>longitude</th>\n",
       "    </tr>\n",
       "  </thead>\n",
       "  <tbody>\n",
       "    <tr>\n",
       "      <th>0</th>\n",
       "      <td>t</td>\n",
       "      <td>St. Peter Church, St. Faustina Parish</td>\n",
       "      <td>41.056430</td>\n",
       "      <td>-80.050690</td>\n",
       "    </tr>\n",
       "    <tr>\n",
       "      <th>1</th>\n",
       "      <td>f</td>\n",
       "      <td>Hartford Heights Volunteer Fire Department</td>\n",
       "      <td>40.352969</td>\n",
       "      <td>-79.767295</td>\n",
       "    </tr>\n",
       "    <tr>\n",
       "      <th>2</th>\n",
       "      <td>t</td>\n",
       "      <td>Our Lady of Joy Church, Holy Family Parish</td>\n",
       "      <td>40.480007</td>\n",
       "      <td>-79.719563</td>\n",
       "    </tr>\n",
       "  </tbody>\n",
       "</table>\n",
       "</div>"
      ],
      "text/plain": [
       "  validated                                  venue_name   latitude  longitude\n",
       "0         t       St. Peter Church, St. Faustina Parish  41.056430 -80.050690\n",
       "1         f  Hartford Heights Volunteer Fire Department  40.352969 -79.767295\n",
       "2         t  Our Lady of Joy Church, Holy Family Parish  40.480007 -79.719563"
      ]
     },
     "execution_count": 2,
     "metadata": {},
     "output_type": "execute_result"
    }
   ],
   "source": [
    "fishFryData = fishFryData[['validated', 'venue_name', 'latitude', 'longitude']]\n",
    "fishFryData.head(3)"
   ]
  },
  {
   "cell_type": "markdown",
   "metadata": {},
   "source": [
    "This is progess but we will need to spend some time getting the data into a state that is best\n",
    "suited to analysis it by location. I began this process by converting all of raw data into a list\n",
    "of neighborhoods using the `fpsnippets.geo_to_neighborhood` function."
   ]
  },
  {
   "cell_type": "code",
   "execution_count": 3,
   "metadata": {},
   "outputs": [
    {
     "data": {
      "text/html": [
       "<div>\n",
       "<style scoped>\n",
       "    .dataframe tbody tr th:only-of-type {\n",
       "        vertical-align: middle;\n",
       "    }\n",
       "\n",
       "    .dataframe tbody tr th {\n",
       "        vertical-align: top;\n",
       "    }\n",
       "\n",
       "    .dataframe thead th {\n",
       "        text-align: right;\n",
       "    }\n",
       "</style>\n",
       "<table border=\"1\" class=\"dataframe\">\n",
       "  <thead>\n",
       "    <tr style=\"text-align: right;\">\n",
       "      <th></th>\n",
       "      <th>Neighborhood</th>\n",
       "    </tr>\n",
       "  </thead>\n",
       "  <tbody>\n",
       "    <tr>\n",
       "      <th>0</th>\n",
       "      <td>Central Lawrenceville</td>\n",
       "    </tr>\n",
       "    <tr>\n",
       "      <th>1</th>\n",
       "      <td>Windgap</td>\n",
       "    </tr>\n",
       "    <tr>\n",
       "      <th>2</th>\n",
       "      <td>Point Breeze North</td>\n",
       "    </tr>\n",
       "  </tbody>\n",
       "</table>\n",
       "</div>"
      ],
      "text/plain": [
       "            Neighborhood\n",
       "0  Central Lawrenceville\n",
       "1                Windgap\n",
       "2     Point Breeze North"
      ]
     },
     "execution_count": 3,
     "metadata": {},
     "output_type": "execute_result"
    }
   ],
   "source": [
    "finalFishFryData = pd.DataFrame()\n",
    "\n",
    "for x, row in fishFryData.iterrows():\n",
    "    neighborhood = fpsnippets.geo_to_neighborhood(row['latitude'], row['longitude'])\n",
    "    if neighborhood != None:\n",
    "        if ((row[\"validated\"]) == \"t\") or ((row[\"validated\"]) == True):\n",
    "            finalFishFryData = pd.concat([finalFishFryData, pd.DataFrame([{'Neighborhood':neighborhood}])])\n",
    "\n",
    "finalFishFryData = finalFishFryData.reset_index(drop=True)\n",
    "\n",
    "finalFishFryData.head(3)"
   ]
  },
  {
   "cell_type": "markdown",
   "metadata": {},
   "source": [
    "Much better! All that is left is to turn it into a comprehensive list to analyze. To do this I used a reference list of all the neighborhoods in Pittsburgh, then looped through our list of fish fry neighborhoods and kept a tally. What we get will be a compleated list of the number of fish frys in each neighborhood."
   ]
  },
  {
   "cell_type": "code",
   "execution_count": 4,
   "metadata": {},
   "outputs": [
    {
     "data": {
      "text/html": [
       "<div>\n",
       "<style scoped>\n",
       "    .dataframe tbody tr th:only-of-type {\n",
       "        vertical-align: middle;\n",
       "    }\n",
       "\n",
       "    .dataframe tbody tr th {\n",
       "        vertical-align: top;\n",
       "    }\n",
       "\n",
       "    .dataframe thead th {\n",
       "        text-align: right;\n",
       "    }\n",
       "</style>\n",
       "<table border=\"1\" class=\"dataframe\">\n",
       "  <thead>\n",
       "    <tr style=\"text-align: right;\">\n",
       "      <th></th>\n",
       "      <th>Neighborhood</th>\n",
       "      <th>Number of Fish Fries</th>\n",
       "    </tr>\n",
       "  </thead>\n",
       "  <tbody>\n",
       "    <tr>\n",
       "      <th>0</th>\n",
       "      <td>South Side Flats</td>\n",
       "      <td>22</td>\n",
       "    </tr>\n",
       "    <tr>\n",
       "      <th>1</th>\n",
       "      <td>Central Business District</td>\n",
       "      <td>15</td>\n",
       "    </tr>\n",
       "    <tr>\n",
       "      <th>2</th>\n",
       "      <td>Elliott</td>\n",
       "      <td>9</td>\n",
       "    </tr>\n",
       "    <tr>\n",
       "      <th>3</th>\n",
       "      <td>Strip District</td>\n",
       "      <td>8</td>\n",
       "    </tr>\n",
       "    <tr>\n",
       "      <th>4</th>\n",
       "      <td>East Allegheny</td>\n",
       "      <td>8</td>\n",
       "    </tr>\n",
       "  </tbody>\n",
       "</table>\n",
       "</div>"
      ],
      "text/plain": [
       "                Neighborhood Number of Fish Fries\n",
       "0           South Side Flats                   22\n",
       "1  Central Business District                   15\n",
       "2                    Elliott                    9\n",
       "3             Strip District                    8\n",
       "4             East Allegheny                    8"
      ]
     },
     "execution_count": 4,
     "metadata": {},
     "output_type": "execute_result"
    }
   ],
   "source": [
    "listOfHoods = pd.read_csv(\"https://data.wprdc.org/datastore/dump/668d7238-cfd2-492e-b397-51a6e74182ff\")\n",
    "listOfHoods = listOfHoods[['hood']]\n",
    "neighborhoodFishFrys = pd.DataFrame(columns=[\"Neighborhood\", \"Number of Fish Fries\"])\n",
    "\n",
    "for index, row in listOfHoods.iterrows():\n",
    "    hood = row[\"hood\"]\n",
    "    count = 0\n",
    "    for index2, row2 in finalFishFryData.iterrows():\n",
    "        if hood == row2[\"Neighborhood\"]:\n",
    "            count = count + 1\n",
    "    neighborhoodFishFrys = pd.concat([neighborhoodFishFrys, pd.DataFrame([{'Neighborhood':hood, 'Number of Fish Fries':count}])])\n",
    "\n",
    "neighborhoodFishFrys = neighborhoodFishFrys.sort_values(by=['Number of Fish Fries'], ascending=False).reset_index(drop=True)\n",
    "\n",
    "# Adjusting pandas display settings.\n",
    "pd.set_option('display.max_rows', None)\n",
    "pd.set_option('display.max_columns', None)\n",
    "pd.set_option('display.width', None)\n",
    "pd.set_option('display.max_colwidth', None)\n",
    "\n",
    "topFishData = neighborhoodFishFrys.head(5)\n",
    "neighborhoodFishFrys.head(5)"
   ]
  },
  {
   "cell_type": "code",
   "execution_count": 5,
   "metadata": {},
   "outputs": [
    {
     "data": {
      "text/plain": [
       "<matplotlib.axes._subplots.AxesSubplot at 0x7f60baf4ec40>"
      ]
     },
     "execution_count": 5,
     "metadata": {},
     "output_type": "execute_result"
    },
    {
     "data": {
      "image/png": "[encoded data removed]",
      "text/plain": [
       "<Figure size 432x288 with 1 Axes>"
      ]
     },
     "metadata": {
      "needs_background": "light"
     },
     "output_type": "display_data"
    }
   ],
   "source": [
    "topFishData.plot.bar(x=\"Neighborhood\", y=\"Number of Fish Fries\", title=\"Number of Fish Fries per Neighborhood\", rot=\"50\")"
   ]
  },
  {
   "cell_type": "markdown",
   "metadata": {},
   "source": [
    "## Metric #2: Public Pool Search\n",
    "\n",
    "##### Jeffery He\n",
    "\n",
    "To begin, lets import the data."
   ]
  },
  {
   "cell_type": "code",
   "execution_count": 6,
   "metadata": {},
   "outputs": [
    {
     "data": {
      "text/html": [
       "<div>\n",
       "<style scoped>\n",
       "    .dataframe tbody tr th:only-of-type {\n",
       "        vertical-align: middle;\n",
       "    }\n",
       "\n",
       "    .dataframe tbody tr th {\n",
       "        vertical-align: top;\n",
       "    }\n",
       "\n",
       "    .dataframe thead th {\n",
       "        text-align: right;\n",
       "    }\n",
       "</style>\n",
       "<table border=\"1\" class=\"dataframe\">\n",
       "  <thead>\n",
       "    <tr style=\"text-align: right;\">\n",
       "      <th></th>\n",
       "      <th>_id</th>\n",
       "      <th>Inspection ID</th>\n",
       "      <th>Facility ID</th>\n",
       "      <th>Facility Name</th>\n",
       "      <th>Facility Address</th>\n",
       "      <th>Facility Address 2</th>\n",
       "      <th>Facility Municipality Name</th>\n",
       "      <th>Facility City</th>\n",
       "      <th>Facility County</th>\n",
       "      <th>Facility State</th>\n",
       "      <th>Facility Postal Code</th>\n",
       "      <th>Facility Latitude</th>\n",
       "      <th>Facility Longitude</th>\n",
       "      <th>Venue Type</th>\n",
       "      <th>Inspection Date</th>\n",
       "      <th>Inspection End</th>\n",
       "      <th>Inspection Purpose</th>\n",
       "      <th>Inspection Passed</th>\n",
       "      <th>Inspection Number</th>\n",
       "      <th>Inspector Name</th>\n",
       "      <th>Free Chlorine, Shallow</th>\n",
       "      <th>Free Chlorine, Deep</th>\n",
       "      <th>Combined Chlorine, Shallow</th>\n",
       "      <th>Combined Chlorine, Deep</th>\n",
       "      <th>Free Bromine, Shallow</th>\n",
       "      <th>Free Bromine, Deep</th>\n",
       "      <th>pH Value, Shallow</th>\n",
       "      <th>pH Value, Deep</th>\n",
       "      <th>Cyanuric Acid</th>\n",
       "      <th>Turnover</th>\n",
       "      <th>Enclosure</th>\n",
       "      <th>Main Drain Visible</th>\n",
       "      <th>Safety Equipment</th>\n",
       "      <th>Disinfectant Level</th>\n",
       "      <th>pH Balance</th>\n",
       "      <th>No Imminent Health Hazards</th>\n",
       "      <th>Abated Date</th>\n",
       "    </tr>\n",
       "  </thead>\n",
       "  <tbody>\n",
       "    <tr>\n",
       "      <th>0</th>\n",
       "      <td>59290</td>\n",
       "      <td>195942</td>\n",
       "      <td>9097</td>\n",
       "      <td>COMFORT INN &amp; SUITES NORTH SHORE - POOL</td>\n",
       "      <td>820 E OHIO STREET</td>\n",
       "      <td>NaN</td>\n",
       "      <td>Pittsburgh</td>\n",
       "      <td>Pittsburgh</td>\n",
       "      <td>Allegheny County</td>\n",
       "      <td>PA</td>\n",
       "      <td>15212.0</td>\n",
       "      <td>40.454503</td>\n",
       "      <td>-79.996269</td>\n",
       "      <td>POOLS (INDOOR)</td>\n",
       "      <td>2021-10-15T09:10:00</td>\n",
       "      <td>2021-10-15T09:20:00</td>\n",
       "      <td>FOLLOW UP INSPECTION</td>\n",
       "      <td>t</td>\n",
       "      <td>4</td>\n",
       "      <td>NOBBS SCOTT</td>\n",
       "      <td>NaN</td>\n",
       "      <td>NaN</td>\n",
       "      <td>NaN</td>\n",
       "      <td>0.0</td>\n",
       "      <td>NaN</td>\n",
       "      <td>NaN</td>\n",
       "      <td>NaN</td>\n",
       "      <td>NaN</td>\n",
       "      <td>NaN</td>\n",
       "      <td>NaN</td>\n",
       "      <td>t</td>\n",
       "      <td>t</td>\n",
       "      <td>t</td>\n",
       "      <td>t</td>\n",
       "      <td>t</td>\n",
       "      <td>t</td>\n",
       "      <td>2021-10-18</td>\n",
       "    </tr>\n",
       "    <tr>\n",
       "      <th>1</th>\n",
       "      <td>59291</td>\n",
       "      <td>195998</td>\n",
       "      <td>1201</td>\n",
       "      <td>MOON HIGH SCHOOL POOL</td>\n",
       "      <td>8353 UNIVERSITY BOULEVARD</td>\n",
       "      <td>NaN</td>\n",
       "      <td>Moon Township</td>\n",
       "      <td>MOON TOWNSHIP</td>\n",
       "      <td>Allegheny County</td>\n",
       "      <td>PA</td>\n",
       "      <td>15108.0</td>\n",
       "      <td>40.510321</td>\n",
       "      <td>-80.220011</td>\n",
       "      <td>POOLS (SCHOOLS)</td>\n",
       "      <td>2021-10-18T13:50:00</td>\n",
       "      <td>2021-10-19T14:45:00</td>\n",
       "      <td>INITIAL INSPECTION</td>\n",
       "      <td>t</td>\n",
       "      <td>1</td>\n",
       "      <td>MANOWN MARYANN</td>\n",
       "      <td>4.5</td>\n",
       "      <td>4.0</td>\n",
       "      <td>0.0</td>\n",
       "      <td>0.0</td>\n",
       "      <td>NaN</td>\n",
       "      <td>NaN</td>\n",
       "      <td>7.4</td>\n",
       "      <td>7.4</td>\n",
       "      <td>NaN</td>\n",
       "      <td>725.0</td>\n",
       "      <td>t</td>\n",
       "      <td>t</td>\n",
       "      <td>t</td>\n",
       "      <td>t</td>\n",
       "      <td>t</td>\n",
       "      <td>t</td>\n",
       "      <td>2021-10-25</td>\n",
       "    </tr>\n",
       "    <tr>\n",
       "      <th>2</th>\n",
       "      <td>59292</td>\n",
       "      <td>196048</td>\n",
       "      <td>1491</td>\n",
       "      <td>HOMEWOOD SUITES - POOL</td>\n",
       "      <td>2000 GSK DRIVE</td>\n",
       "      <td>NaN</td>\n",
       "      <td>Moon Township</td>\n",
       "      <td>CORAOPOLIS</td>\n",
       "      <td>Allegheny County</td>\n",
       "      <td>PA</td>\n",
       "      <td>15108.0</td>\n",
       "      <td>40.458873</td>\n",
       "      <td>-80.176376</td>\n",
       "      <td>POOLS (INDOOR)</td>\n",
       "      <td>2021-10-18T15:10:00</td>\n",
       "      <td>2021-10-21T15:50:00</td>\n",
       "      <td>INITIAL INSPECTION</td>\n",
       "      <td>t</td>\n",
       "      <td>1</td>\n",
       "      <td>MANOWN MARYANN</td>\n",
       "      <td>2.5</td>\n",
       "      <td>NaN</td>\n",
       "      <td>0.0</td>\n",
       "      <td>NaN</td>\n",
       "      <td>NaN</td>\n",
       "      <td>NaN</td>\n",
       "      <td>7.4</td>\n",
       "      <td>NaN</td>\n",
       "      <td>NaN</td>\n",
       "      <td>45.0</td>\n",
       "      <td>t</td>\n",
       "      <td>t</td>\n",
       "      <td>t</td>\n",
       "      <td>t</td>\n",
       "      <td>t</td>\n",
       "      <td>t</td>\n",
       "      <td>2022-10-24</td>\n",
       "    </tr>\n",
       "  </tbody>\n",
       "</table>\n",
       "</div>"
      ],
      "text/plain": [
       "     _id  Inspection ID  Facility ID                            Facility Name  \\\n",
       "0  59290         195942         9097  COMFORT INN & SUITES NORTH SHORE - POOL   \n",
       "1  59291         195998         1201                    MOON HIGH SCHOOL POOL   \n",
       "2  59292         196048         1491                   HOMEWOOD SUITES - POOL   \n",
       "\n",
       "            Facility Address Facility Address 2 Facility Municipality Name  \\\n",
       "0          820 E OHIO STREET                NaN                 Pittsburgh   \n",
       "1  8353 UNIVERSITY BOULEVARD                NaN              Moon Township   \n",
       "2             2000 GSK DRIVE                NaN              Moon Township   \n",
       "\n",
       "   Facility City   Facility County Facility State  Facility Postal Code  \\\n",
       "0     Pittsburgh  Allegheny County             PA               15212.0   \n",
       "1  MOON TOWNSHIP  Allegheny County             PA               15108.0   \n",
       "2     CORAOPOLIS  Allegheny County             PA               15108.0   \n",
       "\n",
       "   Facility Latitude  Facility Longitude       Venue Type  \\\n",
       "0          40.454503          -79.996269   POOLS (INDOOR)   \n",
       "1          40.510321          -80.220011  POOLS (SCHOOLS)   \n",
       "2          40.458873          -80.176376   POOLS (INDOOR)   \n",
       "\n",
       "       Inspection Date       Inspection End    Inspection Purpose  \\\n",
       "0  2021-10-15T09:10:00  2021-10-15T09:20:00  FOLLOW UP INSPECTION   \n",
       "1  2021-10-18T13:50:00  2021-10-19T14:45:00    INITIAL INSPECTION   \n",
       "2  2021-10-18T15:10:00  2021-10-21T15:50:00    INITIAL INSPECTION   \n",
       "\n",
       "  Inspection Passed  Inspection Number  Inspector Name  \\\n",
       "0                 t                  4     NOBBS SCOTT   \n",
       "1                 t                  1  MANOWN MARYANN   \n",
       "2                 t                  1  MANOWN MARYANN   \n",
       "\n",
       "   Free Chlorine, Shallow  Free Chlorine, Deep  Combined Chlorine, Shallow  \\\n",
       "0                     NaN                  NaN                         NaN   \n",
       "1                     4.5                  4.0                         0.0   \n",
       "2                     2.5                  NaN                         0.0   \n",
       "\n",
       "   Combined Chlorine, Deep  Free Bromine, Shallow  Free Bromine, Deep  \\\n",
       "0                      0.0                    NaN                 NaN   \n",
       "1                      0.0                    NaN                 NaN   \n",
       "2                      NaN                    NaN                 NaN   \n",
       "\n",
       "  pH Value, Shallow pH Value, Deep Cyanuric Acid  Turnover Enclosure  \\\n",
       "0               NaN            NaN           NaN       NaN         t   \n",
       "1               7.4            7.4           NaN     725.0         t   \n",
       "2               7.4            NaN           NaN      45.0         t   \n",
       "\n",
       "  Main Drain Visible Safety Equipment Disinfectant Level pH Balance  \\\n",
       "0                  t                t                  t          t   \n",
       "1                  t                t                  t          t   \n",
       "2                  t                t                  t          t   \n",
       "\n",
       "  No Imminent Health Hazards Abated Date  \n",
       "0                          t  2021-10-18  \n",
       "1                          t  2021-10-25  \n",
       "2                          t  2022-10-24  "
      ]
     },
     "execution_count": 6,
     "metadata": {},
     "output_type": "execute_result"
    }
   ],
   "source": [
    "import pandas as pd\n",
    "\n",
    "poolData = pd.read_csv(\"DATAFILES/AquaticInspections.csv\")\n",
    "\n",
    "poolData.head(3)"
   ]
  },
  {
   "cell_type": "markdown",
   "metadata": {},
   "source": [
    "Remove unwanted columns."
   ]
  },
  {
   "cell_type": "code",
   "execution_count": 7,
   "metadata": {},
   "outputs": [
    {
     "data": {
      "text/html": [
       "<div>\n",
       "<style scoped>\n",
       "    .dataframe tbody tr th:only-of-type {\n",
       "        vertical-align: middle;\n",
       "    }\n",
       "\n",
       "    .dataframe tbody tr th {\n",
       "        vertical-align: top;\n",
       "    }\n",
       "\n",
       "    .dataframe thead th {\n",
       "        text-align: right;\n",
       "    }\n",
       "</style>\n",
       "<table border=\"1\" class=\"dataframe\">\n",
       "  <thead>\n",
       "    <tr style=\"text-align: right;\">\n",
       "      <th></th>\n",
       "      <th>Facility Latitude</th>\n",
       "      <th>Facility Longitude</th>\n",
       "      <th>Venue Type</th>\n",
       "      <th>Inspection Passed</th>\n",
       "    </tr>\n",
       "  </thead>\n",
       "  <tbody>\n",
       "    <tr>\n",
       "      <th>0</th>\n",
       "      <td>40.454503</td>\n",
       "      <td>-79.996269</td>\n",
       "      <td>POOLS (INDOOR)</td>\n",
       "      <td>t</td>\n",
       "    </tr>\n",
       "    <tr>\n",
       "      <th>1</th>\n",
       "      <td>40.510321</td>\n",
       "      <td>-80.220011</td>\n",
       "      <td>POOLS (SCHOOLS)</td>\n",
       "      <td>t</td>\n",
       "    </tr>\n",
       "    <tr>\n",
       "      <th>2</th>\n",
       "      <td>40.458873</td>\n",
       "      <td>-80.176376</td>\n",
       "      <td>POOLS (INDOOR)</td>\n",
       "      <td>t</td>\n",
       "    </tr>\n",
       "  </tbody>\n",
       "</table>\n",
       "</div>"
      ],
      "text/plain": [
       "   Facility Latitude  Facility Longitude       Venue Type Inspection Passed\n",
       "0          40.454503          -79.996269   POOLS (INDOOR)                 t\n",
       "1          40.510321          -80.220011  POOLS (SCHOOLS)                 t\n",
       "2          40.458873          -80.176376   POOLS (INDOOR)                 t"
      ]
     },
     "execution_count": 7,
     "metadata": {},
     "output_type": "execute_result"
    }
   ],
   "source": [
    "poolData = poolData[['Facility Latitude', 'Facility Longitude', 'Venue Type', 'Inspection Passed']]\n",
    "poolData.head(3)"
   ]
  },
  {
   "cell_type": "markdown",
   "metadata": {},
   "source": [
    "Now lets sort the data based on neighborhood using `fpsnippets`."
   ]
  },
  {
   "cell_type": "code",
   "execution_count": 8,
   "metadata": {},
   "outputs": [
    {
     "data": {
      "text/html": [
       "<div>\n",
       "<style scoped>\n",
       "    .dataframe tbody tr th:only-of-type {\n",
       "        vertical-align: middle;\n",
       "    }\n",
       "\n",
       "    .dataframe tbody tr th {\n",
       "        vertical-align: top;\n",
       "    }\n",
       "\n",
       "    .dataframe thead th {\n",
       "        text-align: right;\n",
       "    }\n",
       "</style>\n",
       "<table border=\"1\" class=\"dataframe\">\n",
       "  <thead>\n",
       "    <tr style=\"text-align: right;\">\n",
       "      <th></th>\n",
       "      <th>Hood</th>\n",
       "      <th>Venue Type</th>\n",
       "      <th>Inspection Passed</th>\n",
       "    </tr>\n",
       "  </thead>\n",
       "  <tbody>\n",
       "    <tr>\n",
       "      <th>0</th>\n",
       "      <td>East Allegheny</td>\n",
       "      <td>POOLS (INDOOR)</td>\n",
       "      <td>t</td>\n",
       "    </tr>\n",
       "    <tr>\n",
       "      <th>1</th>\n",
       "      <td>Banksville</td>\n",
       "      <td>POOLS (INDOOR)</td>\n",
       "      <td>t</td>\n",
       "    </tr>\n",
       "    <tr>\n",
       "      <th>2</th>\n",
       "      <td>Beechview</td>\n",
       "      <td>POOLS (INDOOR)</td>\n",
       "      <td>f</td>\n",
       "    </tr>\n",
       "  </tbody>\n",
       "</table>\n",
       "</div>"
      ],
      "text/plain": [
       "             Hood      Venue Type Inspection Passed\n",
       "0  East Allegheny  POOLS (INDOOR)                 t\n",
       "1      Banksville  POOLS (INDOOR)                 t\n",
       "2       Beechview  POOLS (INDOOR)                 f"
      ]
     },
     "execution_count": 8,
     "metadata": {},
     "output_type": "execute_result"
    }
   ],
   "source": [
    "poolDataHood = pd.DataFrame()\n",
    "\n",
    "for x, row in poolData.iterrows():\n",
    "    hood = fpsnippets.geo_to_neighborhood(row['Facility Latitude'], row['Facility Longitude'])\n",
    "    if hood != None:\n",
    "        poolDataHood = pd.concat([poolDataHood, pd.DataFrame([{'Hood':hood, 'Venue Type':row['Venue Type'], 'Inspection Passed':row['Inspection Passed']}])])\n",
    "        \n",
    "poolDataHood = poolDataHood.reset_index(drop=True)\n",
    "poolDataHood.head(3)"
   ]
  },
  {
   "cell_type": "markdown",
   "metadata": {},
   "source": [
    "Now we can remove all data rows that do *NOT* pass inspection. We would not want your fish swimming in bad water!"
   ]
  },
  {
   "cell_type": "code",
   "execution_count": 9,
   "metadata": {},
   "outputs": [
    {
     "data": {
      "text/html": [
       "<div>\n",
       "<style scoped>\n",
       "    .dataframe tbody tr th:only-of-type {\n",
       "        vertical-align: middle;\n",
       "    }\n",
       "\n",
       "    .dataframe tbody tr th {\n",
       "        vertical-align: top;\n",
       "    }\n",
       "\n",
       "    .dataframe thead th {\n",
       "        text-align: right;\n",
       "    }\n",
       "</style>\n",
       "<table border=\"1\" class=\"dataframe\">\n",
       "  <thead>\n",
       "    <tr style=\"text-align: right;\">\n",
       "      <th></th>\n",
       "      <th>Hood</th>\n",
       "      <th>Venue Type</th>\n",
       "      <th>Inspection Passed</th>\n",
       "    </tr>\n",
       "  </thead>\n",
       "  <tbody>\n",
       "    <tr>\n",
       "      <th>0</th>\n",
       "      <td>East Allegheny</td>\n",
       "      <td>POOLS (INDOOR)</td>\n",
       "      <td>t</td>\n",
       "    </tr>\n",
       "    <tr>\n",
       "      <th>1</th>\n",
       "      <td>Banksville</td>\n",
       "      <td>POOLS (INDOOR)</td>\n",
       "      <td>t</td>\n",
       "    </tr>\n",
       "    <tr>\n",
       "      <th>2</th>\n",
       "      <td>Squirrel Hill North</td>\n",
       "      <td>POOLS (INDOOR)</td>\n",
       "      <td>t</td>\n",
       "    </tr>\n",
       "  </tbody>\n",
       "</table>\n",
       "</div>"
      ],
      "text/plain": [
       "                  Hood      Venue Type Inspection Passed\n",
       "0       East Allegheny  POOLS (INDOOR)                 t\n",
       "1           Banksville  POOLS (INDOOR)                 t\n",
       "2  Squirrel Hill North  POOLS (INDOOR)                 t"
      ]
     },
     "execution_count": 9,
     "metadata": {},
     "output_type": "execute_result"
    }
   ],
   "source": [
    "poolDataHoodMask = poolDataHood[poolDataHood['Inspection Passed'].str.contains('t')]\n",
    "poolDataHoodMask = poolDataHoodMask.reset_index(drop=True)\n",
    "poolDataHoodMask.head(3)"
   ]
  },
  {
   "cell_type": "markdown",
   "metadata": {},
   "source": [
    "Now lets make sure that its only pools we are dealing with."
   ]
  },
  {
   "cell_type": "code",
   "execution_count": 10,
   "metadata": {},
   "outputs": [
    {
     "data": {
      "text/html": [
       "<div>\n",
       "<style scoped>\n",
       "    .dataframe tbody tr th:only-of-type {\n",
       "        vertical-align: middle;\n",
       "    }\n",
       "\n",
       "    .dataframe tbody tr th {\n",
       "        vertical-align: top;\n",
       "    }\n",
       "\n",
       "    .dataframe thead th {\n",
       "        text-align: right;\n",
       "    }\n",
       "</style>\n",
       "<table border=\"1\" class=\"dataframe\">\n",
       "  <thead>\n",
       "    <tr style=\"text-align: right;\">\n",
       "      <th></th>\n",
       "      <th>Hood</th>\n",
       "      <th>Venue Type</th>\n",
       "      <th>Inspection Passed</th>\n",
       "    </tr>\n",
       "  </thead>\n",
       "  <tbody>\n",
       "    <tr>\n",
       "      <th>0</th>\n",
       "      <td>East Allegheny</td>\n",
       "      <td>POOLS (INDOOR)</td>\n",
       "      <td>t</td>\n",
       "    </tr>\n",
       "    <tr>\n",
       "      <th>1</th>\n",
       "      <td>Banksville</td>\n",
       "      <td>POOLS (INDOOR)</td>\n",
       "      <td>t</td>\n",
       "    </tr>\n",
       "    <tr>\n",
       "      <th>2</th>\n",
       "      <td>Beechview</td>\n",
       "      <td>POOLS (INDOOR)</td>\n",
       "      <td>f</td>\n",
       "    </tr>\n",
       "    <tr>\n",
       "      <th>3</th>\n",
       "      <td>Squirrel Hill South</td>\n",
       "      <td>POOLS (INDOOR)</td>\n",
       "      <td>f</td>\n",
       "    </tr>\n",
       "    <tr>\n",
       "      <th>4</th>\n",
       "      <td>Squirrel Hill North</td>\n",
       "      <td>POOLS (INDOOR)</td>\n",
       "      <td>t</td>\n",
       "    </tr>\n",
       "    <tr>\n",
       "      <th>5</th>\n",
       "      <td>Central Business District</td>\n",
       "      <td>POOLS (INDOOR)</td>\n",
       "      <td>t</td>\n",
       "    </tr>\n",
       "    <tr>\n",
       "      <th>6</th>\n",
       "      <td>Central Business District</td>\n",
       "      <td>POOLS (INDOOR)</td>\n",
       "      <td>f</td>\n",
       "    </tr>\n",
       "    <tr>\n",
       "      <th>7</th>\n",
       "      <td>Allegheny Center</td>\n",
       "      <td>POOLS (SCHOOLS)</td>\n",
       "      <td>t</td>\n",
       "    </tr>\n",
       "    <tr>\n",
       "      <th>8</th>\n",
       "      <td>North Shore</td>\n",
       "      <td>POOLS (INDOOR)</td>\n",
       "      <td>t</td>\n",
       "    </tr>\n",
       "    <tr>\n",
       "      <th>9</th>\n",
       "      <td>Central Northside</td>\n",
       "      <td>POOLS (INDOOR)</td>\n",
       "      <td>t</td>\n",
       "    </tr>\n",
       "  </tbody>\n",
       "</table>\n",
       "</div>"
      ],
      "text/plain": [
       "                        Hood       Venue Type Inspection Passed\n",
       "0             East Allegheny   POOLS (INDOOR)                 t\n",
       "1                 Banksville   POOLS (INDOOR)                 t\n",
       "2                  Beechview   POOLS (INDOOR)                 f\n",
       "3        Squirrel Hill South   POOLS (INDOOR)                 f\n",
       "4        Squirrel Hill North   POOLS (INDOOR)                 t\n",
       "5  Central Business District   POOLS (INDOOR)                 t\n",
       "6  Central Business District   POOLS (INDOOR)                 f\n",
       "7           Allegheny Center  POOLS (SCHOOLS)                 t\n",
       "8                North Shore   POOLS (INDOOR)                 t\n",
       "9          Central Northside   POOLS (INDOOR)                 t"
      ]
     },
     "execution_count": 10,
     "metadata": {},
     "output_type": "execute_result"
    }
   ],
   "source": [
    "poolDataHoodMask = poolDataHood[poolDataHood['Venue Type'].str.contains('POOLS')]\n",
    "poolDataHoodMask = poolDataHoodMask.reset_index(drop=True)\n",
    "poolDataHoodMask.head(10)"
   ]
  },
  {
   "cell_type": "markdown",
   "metadata": {},
   "source": [
    "Now we have a list of Pittsburgh pools that have passed inspection. This data can be used when computing the best fish friendly neighborhood."
   ]
  },
  {
   "cell_type": "markdown",
   "metadata": {},
   "source": [
    "## Metric #3: Air Quality Verification\n",
    "\n",
    "##### Andrew Noonan"
   ]
  },
  {
   "cell_type": "code",
   "execution_count": 11,
   "metadata": {},
   "outputs": [
    {
     "data": {
      "text/html": [
       "<div>\n",
       "<style scoped>\n",
       "    .dataframe tbody tr th:only-of-type {\n",
       "        vertical-align: middle;\n",
       "    }\n",
       "\n",
       "    .dataframe tbody tr th {\n",
       "        vertical-align: top;\n",
       "    }\n",
       "\n",
       "    .dataframe thead th {\n",
       "        text-align: right;\n",
       "    }\n",
       "</style>\n",
       "<table border=\"1\" class=\"dataframe\">\n",
       "  <thead>\n",
       "    <tr style=\"text-align: right;\">\n",
       "      <th></th>\n",
       "      <th>_id</th>\n",
       "      <th>date</th>\n",
       "      <th>site</th>\n",
       "      <th>parameter</th>\n",
       "      <th>index_value</th>\n",
       "      <th>description</th>\n",
       "      <th>health_advisory</th>\n",
       "      <th>health_effects</th>\n",
       "    </tr>\n",
       "  </thead>\n",
       "  <tbody>\n",
       "    <tr>\n",
       "      <th>0</th>\n",
       "      <td>1</td>\n",
       "      <td>2016-01-01</td>\n",
       "      <td>Lawrenceville</td>\n",
       "      <td>PM25B</td>\n",
       "      <td>25</td>\n",
       "      <td>Good</td>\n",
       "      <td>NaN</td>\n",
       "      <td>NaN</td>\n",
       "    </tr>\n",
       "    <tr>\n",
       "      <th>1</th>\n",
       "      <td>2</td>\n",
       "      <td>2016-01-01</td>\n",
       "      <td>Flag Plaza</td>\n",
       "      <td>CO</td>\n",
       "      <td>0</td>\n",
       "      <td>Good</td>\n",
       "      <td>NaN</td>\n",
       "      <td>NaN</td>\n",
       "    </tr>\n",
       "    <tr>\n",
       "      <th>2</th>\n",
       "      <td>3</td>\n",
       "      <td>2016-01-01</td>\n",
       "      <td>Harrison Township</td>\n",
       "      <td>OZONE</td>\n",
       "      <td>31</td>\n",
       "      <td>Good</td>\n",
       "      <td>NaN</td>\n",
       "      <td>NaN</td>\n",
       "    </tr>\n",
       "  </tbody>\n",
       "</table>\n",
       "</div>"
      ],
      "text/plain": [
       "   _id        date               site parameter  index_value description  \\\n",
       "0    1  2016-01-01      Lawrenceville     PM25B           25        Good   \n",
       "1    2  2016-01-01         Flag Plaza        CO            0        Good   \n",
       "2    3  2016-01-01  Harrison Township     OZONE           31        Good   \n",
       "\n",
       "  health_advisory health_effects  \n",
       "0             NaN            NaN  \n",
       "1             NaN            NaN  \n",
       "2             NaN            NaN  "
      ]
     },
     "execution_count": 11,
     "metadata": {},
     "output_type": "execute_result"
    }
   ],
   "source": [
    "import pandas as pd\n",
    "import matplotlib.pyplot as plt\n",
    "airQuality = pd.read_csv(\"https://data.wprdc.org/datastore/dump/4ab1e23f-3262-4bd3-adbf-f72f0119108b\")\n",
    "airQuality.head(3)"
   ]
  },
  {
   "cell_type": "markdown",
   "metadata": {},
   "source": [
    "I visualized the dataset to get an initial picture of where neighborhoods stand."
   ]
  },
  {
   "cell_type": "code",
   "execution_count": 12,
   "metadata": {},
   "outputs": [
    {
     "data": {
      "image/png": "[encoded data removed]",
      "text/plain": [
       "<Figure size 864x432 with 1 Axes>"
      ]
     },
     "metadata": {
      "needs_background": "light"
     },
     "output_type": "display_data"
    }
   ],
   "source": [
    "plt.figure(figsize=(12, 6))\n",
    "plt.bar(airQuality['site'], airQuality['index_value'], color='skyblue')\n",
    "plt.xlabel('Neighborhood')\n",
    "plt.ylabel('Air Quality Value')\n",
    "plt.title('Air Quality in Different Neighborhoods')\n",
    "plt.xticks(rotation=45, ha='right')\n",
    "plt.tight_layout()\n",
    "# Show the plot\n",
    "plt.show()"
   ]
  },
  {
   "cell_type": "markdown",
   "metadata": {},
   "source": [
    "I created a query mask to eliminate any neighborhoods that had moderate or bad air quality and printed the dataset."
   ]
  },
  {
   "cell_type": "code",
   "execution_count": 13,
   "metadata": {},
   "outputs": [
    {
     "data": {
      "text/html": [
       "<div>\n",
       "<style scoped>\n",
       "    .dataframe tbody tr th:only-of-type {\n",
       "        vertical-align: middle;\n",
       "    }\n",
       "\n",
       "    .dataframe tbody tr th {\n",
       "        vertical-align: top;\n",
       "    }\n",
       "\n",
       "    .dataframe thead th {\n",
       "        text-align: right;\n",
       "    }\n",
       "</style>\n",
       "<table border=\"1\" class=\"dataframe\">\n",
       "  <thead>\n",
       "    <tr style=\"text-align: right;\">\n",
       "      <th></th>\n",
       "      <th>_id</th>\n",
       "      <th>date</th>\n",
       "      <th>site</th>\n",
       "      <th>parameter</th>\n",
       "      <th>index_value</th>\n",
       "      <th>description</th>\n",
       "      <th>health_advisory</th>\n",
       "      <th>health_effects</th>\n",
       "    </tr>\n",
       "  </thead>\n",
       "  <tbody>\n",
       "    <tr>\n",
       "      <th>0</th>\n",
       "      <td>1</td>\n",
       "      <td>2016-01-01</td>\n",
       "      <td>Lawrenceville</td>\n",
       "      <td>PM25B</td>\n",
       "      <td>25</td>\n",
       "      <td>Good</td>\n",
       "      <td>NaN</td>\n",
       "      <td>NaN</td>\n",
       "    </tr>\n",
       "    <tr>\n",
       "      <th>1</th>\n",
       "      <td>2</td>\n",
       "      <td>2016-01-01</td>\n",
       "      <td>Flag Plaza</td>\n",
       "      <td>CO</td>\n",
       "      <td>0</td>\n",
       "      <td>Good</td>\n",
       "      <td>NaN</td>\n",
       "      <td>NaN</td>\n",
       "    </tr>\n",
       "    <tr>\n",
       "      <th>2</th>\n",
       "      <td>3</td>\n",
       "      <td>2016-01-01</td>\n",
       "      <td>Harrison Township</td>\n",
       "      <td>OZONE</td>\n",
       "      <td>31</td>\n",
       "      <td>Good</td>\n",
       "      <td>NaN</td>\n",
       "      <td>NaN</td>\n",
       "    </tr>\n",
       "  </tbody>\n",
       "</table>\n",
       "</div>"
      ],
      "text/plain": [
       "   _id        date               site parameter  index_value description  \\\n",
       "0    1  2016-01-01      Lawrenceville     PM25B           25        Good   \n",
       "1    2  2016-01-01         Flag Plaza        CO            0        Good   \n",
       "2    3  2016-01-01  Harrison Township     OZONE           31        Good   \n",
       "\n",
       "  health_advisory health_effects  \n",
       "0             NaN            NaN  \n",
       "1             NaN            NaN  \n",
       "2             NaN            NaN  "
      ]
     },
     "execution_count": 13,
     "metadata": {},
     "output_type": "execute_result"
    }
   ],
   "source": [
    "air_query_mask = airQuality['description'].str.contains(\"Good\")\n",
    "good_air = airQuality[air_query_mask]\n",
    "good_air.head(3)"
   ]
  },
  {
   "cell_type": "markdown",
   "metadata": {},
   "source": [
    "I visualized the dataset of neighborhoods with good air."
   ]
  },
  {
   "cell_type": "code",
   "execution_count": 14,
   "metadata": {},
   "outputs": [
    {
     "data": {
      "image/png": "[encoded data removed]",
      "text/plain": [
       "<Figure size 864x432 with 1 Axes>"
      ]
     },
     "metadata": {
      "needs_background": "light"
     },
     "output_type": "display_data"
    }
   ],
   "source": [
    "plt.figure(figsize=(12, 6))\n",
    "plt.bar(good_air['site'], good_air['index_value'], color='skyblue')\n",
    "plt.xlabel('Neighborhood')\n",
    "plt.ylabel('Air Quality Value')\n",
    "plt.title('Air Quality in Different Neighborhoods')\n",
    "plt.xticks(rotation=45, ha='right')  # Rotate x-axis labels for better readability\n",
    "plt.tight_layout()\n",
    "# Show the plot\n",
    "plt.show()"
   ]
  },
  {
   "cell_type": "markdown",
   "metadata": {},
   "source": [
    "As we can see the suburbs of Pittsburgh, especially Lawrenceville and West Mifflin, score highly. However, the dataset reported some inconsistencies with how Lawrenceville 2 records air quality in comparison to the rest of the sites. So if we were judging purely on air quality, West Mifflin would win. Yet, the rest of out data is comprised of neighborhoods within Pittsburgh. And as the graph shows, Pittsburgh is not terribly far behind. So the air quality can be considered high enough in any Pittsburgh neighborhood to walk your fish."
   ]
  },
  {
   "cell_type": "markdown",
   "metadata": {},
   "source": [
    "## Fish Enjoyment Score Calculator\n",
    "\n",
    "##### Haiden Hunter\n",
    "\n",
    "We can now combine all of our data into one final score to determine the best neighborhood to walk your fish.\n",
    "\n",
    "#### Calculating Score:\n",
    "Fish Fry = -3 Point\n",
    "\n",
    "Pool = +1 Point"
   ]
  },
  {
   "cell_type": "code",
   "execution_count": 46,
   "metadata": {},
   "outputs": [],
   "source": [
    "listOfHoods = pd.read_csv(\"https://data.wprdc.org/datastore/dump/668d7238-cfd2-492e-b397-51a6e74182ff\")\n",
    "listOfHoods = listOfHoods[['hood']]\n",
    "fishEnjoymentScore = pd.DataFrame(columns=[\"Neighborhood\", \"Score\"])\n",
    "fishEnjoymentScoreUpdated = pd.DataFrame(columns=[\"Neighborhood\", \"Score\"])\n",
    "\n",
    "# Adding fish fries to score.\n",
    "for index, row in listOfHoods.iterrows():\n",
    "    hood = row[\"hood\"]\n",
    "    score = 0\n",
    "    for index2, row2 in neighborhoodFishFrys.iterrows():\n",
    "        if hood == row2[\"Neighborhood\"]:\n",
    "            score = row2[\"Number of Fish Fries\"] * -3\n",
    "    fishEnjoymentScore = pd.concat([fishEnjoymentScore, pd.DataFrame([{'Neighborhood':hood, 'Score':score}])])\n",
    "fishEnjoymentScore = fishEnjoymentScore.reset_index(drop=True)\n",
    "\n",
    "# Adding pools to score.\n",
    "for index, row in fishEnjoymentScore.iterrows():\n",
    "    hood = row[\"Neighborhood\"]\n",
    "    score = row[\"Score\"]\n",
    "    for index2, row2 in poolDataHoodMask.iterrows():\n",
    "        if hood == row2[\"Hood\"]:\n",
    "            score = score + 1\n",
    "    fishEnjoymentScoreUpdated = pd.concat([fishEnjoymentScoreUpdated, pd.DataFrame([{'Neighborhood':hood, 'Score':score}])])\n",
    "fishEnjoymentScoreUpdated = fishEnjoymentScoreUpdated.sort_values(by=['Score'], ascending=False).reset_index(drop=True)\n",
    "\n",
    "topFESData = fishEnjoymentScoreUpdated.head(5)"
   ]
  },
  {
   "cell_type": "markdown",
   "metadata": {},
   "source": [
    "Our fish enjoyment score calculator is now compleate. All that is left to do is check the results!"
   ]
  },
  {
   "cell_type": "code",
   "execution_count": 62,
   "metadata": {},
   "outputs": [
    {
     "data": {
      "text/html": [
       "<div>\n",
       "<style scoped>\n",
       "    .dataframe tbody tr th:only-of-type {\n",
       "        vertical-align: middle;\n",
       "    }\n",
       "\n",
       "    .dataframe tbody tr th {\n",
       "        vertical-align: top;\n",
       "    }\n",
       "\n",
       "    .dataframe thead th {\n",
       "        text-align: right;\n",
       "    }\n",
       "</style>\n",
       "<table border=\"1\" class=\"dataframe\">\n",
       "  <thead>\n",
       "    <tr style=\"text-align: right;\">\n",
       "      <th></th>\n",
       "      <th>Neighborhood</th>\n",
       "      <th>Score</th>\n",
       "    </tr>\n",
       "  </thead>\n",
       "  <tbody>\n",
       "    <tr>\n",
       "      <th>0</th>\n",
       "      <td>North Shore</td>\n",
       "      <td>24</td>\n",
       "    </tr>\n",
       "    <tr>\n",
       "      <th>1</th>\n",
       "      <td>North Oakland</td>\n",
       "      <td>13</td>\n",
       "    </tr>\n",
       "    <tr>\n",
       "      <th>2</th>\n",
       "      <td>Squirrel Hill South</td>\n",
       "      <td>13</td>\n",
       "    </tr>\n",
       "    <tr>\n",
       "      <th>3</th>\n",
       "      <td>Banksville</td>\n",
       "      <td>12</td>\n",
       "    </tr>\n",
       "    <tr>\n",
       "      <th>4</th>\n",
       "      <td>Terrace Village</td>\n",
       "      <td>7</td>\n",
       "    </tr>\n",
       "  </tbody>\n",
       "</table>\n",
       "</div>"
      ],
      "text/plain": [
       "          Neighborhood Score\n",
       "0          North Shore    24\n",
       "1        North Oakland    13\n",
       "2  Squirrel Hill South    13\n",
       "3           Banksville    12\n",
       "4      Terrace Village     7"
      ]
     },
     "execution_count": 62,
     "metadata": {},
     "output_type": "execute_result"
    }
   ],
   "source": [
    "topFESData = fishEnjoymentScoreUpdated.head(5)\n",
    "fishEnjoymentScoreUpdated.head(5)"
   ]
  },
  {
   "cell_type": "code",
   "execution_count": 66,
   "metadata": {},
   "outputs": [
    {
     "data": {
      "text/plain": [
       "<matplotlib.axes._subplots.AxesSubplot at 0x7f60b8cdabe0>"
      ]
     },
     "execution_count": 66,
     "metadata": {},
     "output_type": "execute_result"
    },
    {
     "data": {
      "image/png": "[encoded data removed]",
      "text/plain": [
       "<Figure size 432x288 with 1 Axes>"
      ]
     },
     "metadata": {
      "needs_background": "light"
     },
     "output_type": "display_data"
    }
   ],
   "source": [
    "topFESData.plot.bar(x=\"Neighborhood\", y=\"Score\", title=\"Fish Enjoyment Score in each Neighborhood\", rot=\"30\")"
   ]
  },
  {
   "cell_type": "markdown",
   "metadata": {},
   "source": [
    "### The *North Shore* is the best neighborhood to walk your fish!"
   ]
  },
  {
   "cell_type": "markdown",
   "metadata": {},
   "source": [
    "#### Conclusions:\n",
    "\n",
    "**Haiden:** I was definitely surprised by the sheer number of pools in the North Shore. And due to its lack of fish fries these pools allow it to pull ahead of the other neighborhoods, making it the clear winner. In terms of my personal favorite neighborhood in Pittsburgh, I would say North Oakland. I know that is a generic answer considering where Pitt is loacated, but it is true. I am a local to the Pittsburgh area, so I have been around, and the raw density of cool stuff in North Oakland is unbeatable. The museums, restaurants, and vibrant nature of the neighborhood really seals the deal for me. And if there is something downtown you want to do, it is a 5 minute car ride. Meaning you get all the benefits of downtown without any of the hastle. And as a bonus, it is the second best neighborhood to walk your fish. :)\n",
    "\n",
    "**Andrew** I was surprised by how many neighborhoods in pittsburgh had good air quality, especially because most of the reports I have heard on the news would say that Pittsburgh has some of the worst air quality outside of California. Additionally, while the North Shore was the best neighborhood to walk your fish, personal experience would tell me you *Definitely* don't want to live there."
   ]
  },
  {
   "cell_type": "markdown",
   "metadata": {},
   "source": [
    "![alt text](https://media.giphy.com/media/LnnvGmYxaHiMlMKfuh/giphy.gif)\n",
    "\n",
    "## Questions?\n",
    "\n",
    "### Thank you."
   ]
  },
  {
   "cell_type": "code",
   "execution_count": null,
   "metadata": {},
   "outputs": [],
   "source": []
  }
 ],
 "metadata": {
  "kernelspec": {
   "display_name": "Python 3",
   "language": "python",
   "name": "python3"
  },
  "language_info": {
   "codemirror_mode": {
    "name": "ipython",
    "version": 3
   },
   "file_extension": ".py",
   "mimetype": "text/x-python",
   "name": "python",
   "nbconvert_exporter": "python",
   "pygments_lexer": "ipython3",
   "version": "3.8.3"
  }
 },
 "nbformat": 4,
 "nbformat_minor": 4
}
