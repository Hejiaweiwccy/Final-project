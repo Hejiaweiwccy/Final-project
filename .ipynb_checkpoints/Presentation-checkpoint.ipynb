{
 "cells": [
  {
   "cell_type": "markdown",
   "metadata": {},
   "source": [
    "# What Neighborhood Is Best to Walk Your Fish?\n",
    "\n",
    "### By Team Garlic (Haiden Hunter, Andrew Noonan, and Jeffery He)\n",
    "\n",
    "![alt text](https://i.pinimg.com/736x/41/88/1c/41881cdd0b6c1c5eb9ee45b3e7395c0b.jpg)"
   ]
  },
  {
   "cell_type": "markdown",
   "metadata": {},
   "source": [
    "## Introduction\n",
    "\n",
    "What is the weirdest activity you can imagine? I hope that walking your pet fish was your first thought, because it was ours. Now lets take that silly idea and make it comically practical. You would need a place to walk your fish. At first, we thought of public rivers, ponds, and lakes. However, when talking about the neighborhoods around Pittsburgh the rivers dominate the waterways. And what if a much bigger fish is lurking in that murky water waiting to eat your beloved pet? Instead, we turned to public pools. Assuming your fish is supernatural and can survive in chlorine dense waters, but that is a given. Now you do not want someone to mistake your pet fish for one that is meant to be cooked right? So we also analyzed local fish fry locations in order to avoid thoes areas. And to top everything off, you and your fish deserve the highest air quality. So we also made sure that the local air quality was up to standard. But in the end its all about your fish's happiness. So we will combine all these metrics into a *Fish Enjoyment Score* to ultimatly conclude the best neighborhood to walk your fish.\n",
    "\n",
    "## The Metrics\n",
    "\n",
    "The *Fish Enjoyment Score* is the ultimate fish walkability metric created by analyzing\n",
    "\n",
    "1. The number of fish fries.\n",
    "2. The number of public pools.\n",
    "3. The air quality of the area.\n",
    "\n",
    "To reach our conclusing we analyzed the following data sets:\n",
    "\n",
    "1. [Pittsburgh Fish Fry Locations](https://data.wprdc.org/dataset/pittsburgh-fish-fry-map)\n",
    "\n",
    "    This dataset contains lists of local fish fry locations of the last 5 years.\n",
    "    \n",
    "2. [Public Pool Inspections](https://data.wprdc.org/dataset/allegheny-county-public-swimming-pool-hot-tub-and-spa-inspections)\n",
    "\n",
    "    This dataset contains the data collected by pool inspectors around the Pittsburgh areas.\n",
    "    \n",
    "3. [Air Quality](https://data.wprdc.org/dataset/allegheny-county-air-quality)\n",
    "\n",
    "    This dataset contains ratings of the local air quality.\n",
    "    \n",
    "4. [Reference List of Pittsburgh Neighborhoods](https://data.wprdc.org/dataset/neighborhoods2/resource/668d7238-cfd2-492e-b397-51a6e74182ff)\n",
    "\n",
    "    This dataset contains a list of all Pittsburgh neighborhoods.\n",
    "\n",
    "\n"
   ]
  },
  {
   "cell_type": "markdown",
   "metadata": {},
   "source": [
    "## Metric #1: Avoid Fish Fries at All Cost\n",
    "\n",
    "##### Haiden Hunter\n",
    "\n",
    "We begin by importing all of our data and merging it into one file."
   ]
  },
  {
   "cell_type": "code",
   "execution_count": null,
   "metadata": {},
   "outputs": [],
   "source": [
    "import pandas as pd\n",
    "import fpsnippets\n",
    "\n",
    "fishFryData2023 = pd.read_csv(\"https://data.wprdc.org/datastore/dump/511a29f6-3217-4f61-a9ba-b3b5b35ab5fb\")\n",
    "fishFryData2022 = pd.read_csv(\"https://data.wprdc.org/dataset/682daad1-6d3a-45d3-8710-6c961146e19b/resource/f4d7e81a-ac39-4f84-a249-c68524e8258a/download/2022_pittsburgh_fish_fry_locations.csv\")\n",
    "fishFryData2021 = pd.read_csv(\"https://data.wprdc.org/dataset/682daad1-6d3a-45d3-8710-6c961146e19b/resource/dfa58a5b-d221-411f-bd7e-32837ff99993/download/2021_pittsburgh_fish_fry_locations.csv\")\n",
    "fishFryData2020 = pd.read_csv(\"https://data.wprdc.org/dataset/682daad1-6d3a-45d3-8710-6c961146e19b/resource/d802d628-bd44-47cc-bbc9-c691f9026ca1/download/2020_pittsburgh_fish_fry_locations.csv\")\n",
    "fishFryData2019 = pd.read_csv(\"https://data.wprdc.org/dataset/682daad1-6d3a-45d3-8710-6c961146e19b/resource/5b58c467-8e6a-4abc-9dd5-a39881770b3c/download/2019_pittsburgh_fish_fry_locations.csv\")\n",
    "fishFryData = pd.concat([fishFryData2023, fishFryData2022, fishFryData2021, fishFryData2020, fishFryData2019]).reset_index()\n",
    "\n",
    "fishFryData.head(3)"
   ]
  },
  {
   "cell_type": "markdown",
   "metadata": {},
   "source": [
    "Now this data contains a lot of unnecessary information. Lets remove unneeded columns."
   ]
  },
  {
   "cell_type": "code",
   "execution_count": null,
   "metadata": {},
   "outputs": [],
   "source": [
    "fishFryData = fishFryData[['validated', 'venue_name', 'latitude', 'longitude']]\n",
    "fishFryData.head(3)"
   ]
  },
  {
   "cell_type": "markdown",
   "metadata": {},
   "source": [
    "This is progess but we will need to spend some time getting the data into a state that is best\n",
    "suited to analysis it by location. I began this process by converting all of raw data into a list\n",
    "of neighborhoods using the `fpsnippets.geo_to_neighborhood` function."
   ]
  },
  {
   "cell_type": "code",
   "execution_count": null,
   "metadata": {},
   "outputs": [],
   "source": [
    "finalFishFryData = pd.DataFrame()\n",
    "\n",
    "for x, row in fishFryData.iterrows():\n",
    "    neighborhood = fpsnippets.geo_to_neighborhood(row['latitude'], row['longitude'])\n",
    "    if neighborhood != None:\n",
    "        if ((row[\"validated\"]) == \"t\") or ((row[\"validated\"]) == True):\n",
    "            finalFishFryData = pd.concat([finalFishFryData, pd.DataFrame([{'Neighborhood':neighborhood}])])\n",
    "\n",
    "finalFishFryData = finalFishFryData.reset_index(drop=True)\n",
    "\n",
    "finalFishFryData.head(3)"
   ]
  },
  {
   "cell_type": "markdown",
   "metadata": {},
   "source": [
    "Much better! All that is left is to turn it into a comprehensive list to analyze. To do this I used a reference list of all the neighborhoods in Pittsburgh, then looped through our list of fish fry neighborhoods and kept a tally. What we get will be a compleated list of the number of fish frys in each neighborhood."
   ]
  },
  {
   "cell_type": "code",
   "execution_count": null,
   "metadata": {},
   "outputs": [],
   "source": [
    "listOfHoods = pd.read_csv(\"https://data.wprdc.org/datastore/dump/668d7238-cfd2-492e-b397-51a6e74182ff\")\n",
    "listOfHoods = listOfHoods[['hood']]\n",
    "neighborhoodFishFrys = pd.DataFrame(columns=[\"Neighborhood\", \"Number of Fish Fries\"])\n",
    "\n",
    "for index, row in listOfHoods.iterrows():\n",
    "    hood = row[\"hood\"]\n",
    "    count = 0\n",
    "    for index2, row2 in finalFishFryData.iterrows():\n",
    "        if hood == row2[\"Neighborhood\"]:\n",
    "            count = count + 1\n",
    "    neighborhoodFishFrys = pd.concat([neighborhoodFishFrys, pd.DataFrame([{'Neighborhood':hood, 'Number of Fish Fries':count}])])\n",
    "\n",
    "neighborhoodFishFrys = neighborhoodFishFrys.sort_values(by=['Number of Fish Fries'], ascending=False).reset_index(drop=True)\n",
    "\n",
    "# Adjusting pandas display settings.\n",
    "pd.set_option('display.max_rows', None)\n",
    "pd.set_option('display.max_columns', None)\n",
    "pd.set_option('display.width', None)\n",
    "pd.set_option('display.max_colwidth', None)\n",
    "\n",
    "display(neighborhoodFishFrys)"
   ]
  },
  {
   "cell_type": "markdown",
   "metadata": {},
   "source": [
    "## Metric #2: Public Pool Search\n",
    "\n",
    "##### Jeffery He\n",
    "\n",
    "To begin, lets import the data."
   ]
  },
  {
   "cell_type": "code",
   "execution_count": null,
   "metadata": {},
   "outputs": [],
   "source": [
    "import pandas as pd\n",
    "\n",
    "poolData = pd.read_csv(\"DATAFILES/AquaticInspections.csv\")\n",
    "\n",
    "poolData.head(3)"
   ]
  },
  {
   "cell_type": "markdown",
   "metadata": {},
   "source": [
    "Remove unwanted columns."
   ]
  },
  {
   "cell_type": "code",
   "execution_count": null,
   "metadata": {},
   "outputs": [],
   "source": [
    "poolData = poolData[['Facility Latitude', 'Facility Longitude', 'Venue Type', 'Inspection Passed']]\n",
    "poolData.head(3)"
   ]
  },
  {
   "cell_type": "markdown",
   "metadata": {},
   "source": [
    "Now lets sort the data based on neighborhood using `fpsnippets`."
   ]
  },
  {
   "cell_type": "code",
   "execution_count": null,
   "metadata": {},
   "outputs": [],
   "source": [
    "poolDataHood = pd.DataFrame()\n",
    "\n",
    "for x, row in poolData.iterrows():\n",
    "    hood = fpsnippets.geo_to_neighborhood(row['Facility Latitude'], row['Facility Longitude'])\n",
    "    if hood != None:\n",
    "        poolDataHood = pd.concat([poolDataHood, pd.DataFrame([{'Hood':hood, 'Venue Type':row['Venue Type'], 'Inspection Passed':row['Inspection Passed']}])])\n",
    "        \n",
    "poolDataHood = poolDataHood.reset_index(drop=True)\n",
    "poolDataHood.head(3)"
   ]
  },
  {
   "cell_type": "markdown",
   "metadata": {},
   "source": [
    "Now we can remove all data rows that do *NOT* pass inspection. We would not want your fish swimming in bad water!"
   ]
  },
  {
   "cell_type": "code",
   "execution_count": null,
   "metadata": {},
   "outputs": [],
   "source": [
    "poolDataHoodMask = poolDataHood[poolDataHood['Inspection Passed'].str.contains('t')]\n",
    "poolDataHoodMask = poolDataHoodMask.reset_index(drop=True)\n",
    "poolDataHoodMask.head(3)"
   ]
  },
  {
   "cell_type": "markdown",
   "metadata": {},
   "source": [
    "Now lets make sure that its only pools we are dealing with."
   ]
  },
  {
   "cell_type": "code",
   "execution_count": null,
   "metadata": {},
   "outputs": [],
   "source": [
    "poolDataHoodMask = poolDataHood[poolDataHood['Venue Type'].str.contains('POOLS')]\n",
    "poolDataHoodMask = poolDataHoodMask.reset_index(drop=True)\n",
    "poolDataHoodMask.head(10)"
   ]
  },
  {
   "cell_type": "markdown",
   "metadata": {},
   "source": [
    "Now we have a list of Pittsburgh pools that have passed inspection. This data can be used when computing the best fish friendly neighborhood."
   ]
  },
  {
   "cell_type": "markdown",
   "metadata": {},
   "source": [
    "## Metric #3: Air Quality Verification\n",
    "\n",
    "##### Andrew Noonan"
   ]
  },
  {
   "cell_type": "code",
   "execution_count": null,
   "metadata": {},
   "outputs": [],
   "source": [
    "import pandas as pd\n",
    "import matplotlib.pyplot as plt\n",
    "airQuality = pd.read_csv(\"https://data.wprdc.org/datastore/dump/4ab1e23f-3262-4bd3-adbf-f72f0119108b\")\n",
    "airQuality.head(3)"
   ]
  },
  {
   "cell_type": "markdown",
   "metadata": {},
   "source": [
    "I visualized the dataset to get an initial picture of where neighborhoods stand."
   ]
  },
  {
   "cell_type": "code",
   "execution_count": null,
   "metadata": {},
   "outputs": [],
   "source": [
    "plt.figure(figsize=(12, 6))\n",
    "plt.bar(airQuality['site'], airQuality['index_value'], color='skyblue')\n",
    "plt.xlabel('Neighborhood')\n",
    "plt.ylabel('Air Quality Value')\n",
    "plt.title('Air Quality in Different Neighborhoods')\n",
    "plt.xticks(rotation=45, ha='right')\n",
    "plt.tight_layout()\n",
    "# Show the plot\n",
    "plt.show()"
   ]
  },
  {
   "cell_type": "markdown",
   "metadata": {},
   "source": [
    "I created a query mask to eliminate any neighborhoods that had moderate or bad air quality and printed the dataset."
   ]
  },
  {
   "cell_type": "code",
   "execution_count": null,
   "metadata": {},
   "outputs": [],
   "source": [
    "air_query_mask = airQuality['description'].str.contains(\"Good\")\n",
    "good_air = airQuality[air_query_mask]\n",
    "good_air.head(3)"
   ]
  },
  {
   "cell_type": "markdown",
   "metadata": {},
   "source": [
    "I visualized the dataset of neighborhoods with good air."
   ]
  },
  {
   "cell_type": "code",
   "execution_count": null,
   "metadata": {},
   "outputs": [],
   "source": [
    "plt.figure(figsize=(12, 6))\n",
    "plt.bar(good_air['site'], good_air['index_value'], color='skyblue')\n",
    "plt.xlabel('Neighborhood')\n",
    "plt.ylabel('Air Quality Value')\n",
    "plt.title('Air Quality in Different Neighborhoods')\n",
    "plt.xticks(rotation=45, ha='right')  # Rotate x-axis labels for better readability\n",
    "plt.tight_layout()\n",
    "# Show the plot\n",
    "plt.show()"
   ]
  },
  {
   "cell_type": "markdown",
   "metadata": {},
   "source": [
    "As we can see the suburbs of Pittsburgh, escpecially Lawrenceville and West Mifflin. However, the dataset reported some inconsistencies with how Lawrenceville 2 records air quality in comparison to the rest of the sites. So if we were judging purly on air quality, West Mifflin would win. Yet, the rest of out data is comprised of neighborhoods within Pittsburgh. And as the graph shows, Pittsburgh is not terribly far behind. So the air quality can be considered high enough in any Pittsburgh neighborhood to walk your fish."
   ]
  },
  {
   "cell_type": "markdown",
   "metadata": {},
   "source": [
    "## Fish Enjoyment Score Calculator\n",
    "\n",
    "##### Haiden Hunter\n",
    "\n",
    "We can now combine all of our data into one final score to determine the best neighborhood to walk your fish."
   ]
  },
  {
   "cell_type": "code",
   "execution_count": null,
   "metadata": {},
   "outputs": [],
   "source": [
    "listOfHoods = pd.read_csv(\"https://data.wprdc.org/datastore/dump/668d7238-cfd2-492e-b397-51a6e74182ff\")\n",
    "listOfHoods = listOfHoods[['hood']]\n",
    "fishEnjoymentScore = pd.DataFrame(columns=[\"Neighborhood\", \"Score\"])"
   ]
  },
  {
   "cell_type": "code",
   "execution_count": null,
   "metadata": {},
   "outputs": [],
   "source": []
  },
  {
   "cell_type": "code",
   "execution_count": null,
   "metadata": {},
   "outputs": [],
   "source": []
  },
  {
   "cell_type": "code",
   "execution_count": null,
   "metadata": {},
   "outputs": [],
   "source": []
  },
  {
   "cell_type": "code",
   "execution_count": null,
   "metadata": {},
   "outputs": [],
   "source": []
  },
  {
   "cell_type": "code",
   "execution_count": null,
   "metadata": {},
   "outputs": [],
   "source": []
  },
  {
   "cell_type": "markdown",
   "metadata": {},
   "source": [
    "![alt text](https://media.giphy.com/media/LnnvGmYxaHiMlMKfuh/giphy.gif)\n",
    "\n",
    "## Questions?\n",
    "\n",
    "### Thank you."
   ]
  }
 ],
 "metadata": {
  "kernelspec": {
   "display_name": "Python 3",
   "language": "python",
   "name": "python3"
  },
  "language_info": {
   "codemirror_mode": {
    "name": "ipython",
    "version": 3
   },
   "file_extension": ".py",
   "mimetype": "text/x-python",
   "name": "python",
   "nbconvert_exporter": "python",
   "pygments_lexer": "ipython3",
   "version": "3.8.3"
  }
 },
 "nbformat": 4,
 "nbformat_minor": 4
}
